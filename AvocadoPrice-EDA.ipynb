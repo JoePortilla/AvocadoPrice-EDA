{
 "cells": [
  {
   "cell_type": "code",
   "execution_count": null,
   "id": "9698f7da",
   "metadata": {
    "papermill": {
     "duration": 0.003453,
     "end_time": "2023-04-07T23:59:25.532414",
     "exception": false,
     "start_time": "2023-04-07T23:59:25.528961",
     "status": "completed"
    },
    "tags": []
   },
   "outputs": [],
   "source": []
  }
 ],
 "metadata": {
  "kernelspec": {
   "display_name": "Python 3",
   "language": "python",
   "name": "python3"
  },
  "language_info": {
   "codemirror_mode": {
    "name": "ipython",
    "version": 3
   },
   "file_extension": ".py",
   "mimetype": "text/x-python",
   "name": "python",
   "nbconvert_exporter": "python",
   "pygments_lexer": "ipython3",
   "version": "3.7.12"
  },
  "papermill": {
   "default_parameters": {},
   "duration": 17.149216,
   "end_time": "2023-04-07T23:59:28.434799",
   "environment_variables": {},
   "exception": null,
   "input_path": "__notebook__.ipynb",
   "output_path": "__notebook__.ipynb",
   "parameters": {},
   "start_time": "2023-04-07T23:59:11.285583",
   "version": "2.4.0"
  }
 },
 "nbformat": 4,
 "nbformat_minor": 5
}
