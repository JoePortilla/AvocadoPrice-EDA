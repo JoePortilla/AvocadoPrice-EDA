{
 "cells": [
  {
   "cell_type": "markdown",
   "id": "ef263b67",
   "metadata": {
    "papermill": {
     "duration": 0.011182,
     "end_time": "2023-04-08T16:11:07.128686",
     "exception": false,
     "start_time": "2023-04-08T16:11:07.117504",
     "status": "completed"
    },
    "tags": []
   },
   "source": [
    "# 0. Introducción\n",
    "\n",
    "<img src=\"https://raw.githubusercontent.com/JoePortilla/AvocadoPrice-EDA/main/img/Avocado_eda_cover.jpg\" width=\"800\" alt=\"logo\" style=\"display:block;margin:auto;\">\n",
    "\n",
    "- El dataset de precios de aguacate contiene información sobre el precio promedio de los aguacates en diferentes regiones de los Estados Unidos, recopilados desde el año 2015 hasta el año 2020.\n",
    "- Incluye información detallada sobre la cantidad de aguacates vendidos en diferentes tamaños y tipos (convencionales y orgánicos), así como información sobre la cantidad de bolsas vendidas.\n",
    "- Este dataset puede ser utilizado para analizar las tendencias en los precios y la demanda de diferentes tipos y tamaños de aguacates en diferentes regiones geográficas de los Estados Unidos.\n",
    "\n",
    "## Objetivo general\n",
    "Construir un modelo para predecir la venta futura de aguacates.\n",
    "\n",
    "## Objetivo especifico\n",
    "Este notebook se centra en explorar y visualizar el conjunto de datos.\n",
    "- Realizar un análisis exploratorio de datos para comprender los datos y elegir las mejores características. \n",
    "- Encontrar los factores que influyen en la venta de aguacates, y la relación entre la región, el mes o el tipo de aguacate.\n",
    "\n",
    "## Paquetes utilizados:\n",
    "- Procesamiento de datos\n",
    "    - Pandas.\n",
    "- Procesamiento numérico.\n",
    "    - NumPy\n",
    "- Visualización de datos\n",
    "    - Seaborn\n",
    "    - Matplotlib.\n",
    "\n",
    "## Referencias:\n",
    "- [Hass Avocado Board](https://hassavocadoboard.com/)\n",
    "\n",
    "## Instructor:\n",
    "Joseph Santiago Portilla - Ingeniero Electrónico.\n",
    "- GitHub: https://github.com/JoePortilla\n",
    "- Twitter: https://twitter.com/JoePortilla\n",
    "- LinkedIn: https://www.linkedin.com/in/PortillaJoe\n",
    "- Kaggle: https://www.kaggle.com/joeportilla\n"
   ]
  },
  {
   "cell_type": "markdown",
   "id": "d3a56489",
   "metadata": {
    "execution": {
     "iopub.execute_input": "2023-03-31T19:32:53.120703Z",
     "iopub.status.busy": "2023-03-31T19:32:53.120274Z",
     "iopub.status.idle": "2023-03-31T19:32:53.126085Z",
     "shell.execute_reply": "2023-03-31T19:32:53.124884Z",
     "shell.execute_reply.started": "2023-03-31T19:32:53.120666Z"
    },
    "papermill": {
     "duration": 0.010051,
     "end_time": "2023-04-08T16:11:07.149285",
     "exception": false,
     "start_time": "2023-04-08T16:11:07.139234",
     "status": "completed"
    },
    "tags": []
   },
   "source": [
    "# 1. Ajustes Iniciales"
   ]
  },
  {
   "cell_type": "markdown",
   "id": "99972253",
   "metadata": {
    "papermill": {
     "duration": 0.010062,
     "end_time": "2023-04-08T16:11:07.170956",
     "exception": false,
     "start_time": "2023-04-08T16:11:07.160894",
     "status": "completed"
    },
    "tags": []
   },
   "source": [
    "## 1.1 Importación de Bibliotecas"
   ]
  },
  {
   "cell_type": "code",
   "execution_count": 1,
   "id": "28442a08",
   "metadata": {
    "_cell_guid": "b1076dfc-b9ad-4769-8c92-a6c4dae69d19",
    "_uuid": "8f2839f25d086af736a60e9eeb907d3b93b6e0e5",
    "execution": {
     "iopub.execute_input": "2023-04-08T16:11:07.193804Z",
     "iopub.status.busy": "2023-04-08T16:11:07.193187Z",
     "iopub.status.idle": "2023-04-08T16:11:08.231982Z",
     "shell.execute_reply": "2023-04-08T16:11:08.230872Z"
    },
    "papermill": {
     "duration": 1.053084,
     "end_time": "2023-04-08T16:11:08.234384",
     "exception": false,
     "start_time": "2023-04-08T16:11:07.181300",
     "status": "completed"
    },
    "tags": []
   },
   "outputs": [],
   "source": [
    "import numpy as np\n",
    "import pandas as pd\n",
    "import seaborn as sns\n",
    "import matplotlib.pyplot as plt"
   ]
  },
  {
   "cell_type": "markdown",
   "id": "b3dc1532",
   "metadata": {
    "papermill": {
     "duration": 0.009782,
     "end_time": "2023-04-08T16:11:08.254592",
     "exception": false,
     "start_time": "2023-04-08T16:11:08.244810",
     "status": "completed"
    },
    "tags": []
   },
   "source": [
    "## 1.2. Definición de estilo de gráficas"
   ]
  },
  {
   "cell_type": "code",
   "execution_count": 2,
   "id": "43d4eae1",
   "metadata": {
    "execution": {
     "iopub.execute_input": "2023-04-08T16:11:08.277605Z",
     "iopub.status.busy": "2023-04-08T16:11:08.277152Z",
     "iopub.status.idle": "2023-04-08T16:11:08.282923Z",
     "shell.execute_reply": "2023-04-08T16:11:08.281862Z"
    },
    "papermill": {
     "duration": 0.020453,
     "end_time": "2023-04-08T16:11:08.284962",
     "exception": false,
     "start_time": "2023-04-08T16:11:08.264509",
     "status": "completed"
    },
    "tags": []
   },
   "outputs": [],
   "source": [
    "# https://matplotlib.org/stable/gallery/style_sheets/style_sheets_reference.html\n",
    "plt.style.use(\"seaborn-whitegrid\")"
   ]
  },
  {
   "cell_type": "markdown",
   "id": "58850765",
   "metadata": {
    "papermill": {
     "duration": 0.012873,
     "end_time": "2023-04-08T16:11:08.311105",
     "exception": false,
     "start_time": "2023-04-08T16:11:08.298232",
     "status": "completed"
    },
    "tags": []
   },
   "source": [
    "# 2. Carga de Dataset y Revisión inicial"
   ]
  },
  {
   "cell_type": "markdown",
   "id": "05c65cbf",
   "metadata": {
    "papermill": {
     "duration": 0.010036,
     "end_time": "2023-04-08T16:11:08.333553",
     "exception": false,
     "start_time": "2023-04-08T16:11:08.323517",
     "status": "completed"
    },
    "tags": []
   },
   "source": [
    "## 2.1. Lectura de CSV"
   ]
  },
  {
   "cell_type": "code",
   "execution_count": 3,
   "id": "d2f5f71f",
   "metadata": {
    "execution": {
     "iopub.execute_input": "2023-04-08T16:11:08.356150Z",
     "iopub.status.busy": "2023-04-08T16:11:08.355818Z",
     "iopub.status.idle": "2023-04-08T16:11:08.467315Z",
     "shell.execute_reply": "2023-04-08T16:11:08.466527Z"
    },
    "papermill": {
     "duration": 0.125095,
     "end_time": "2023-04-08T16:11:08.469750",
     "exception": false,
     "start_time": "2023-04-08T16:11:08.344655",
     "status": "completed"
    },
    "tags": []
   },
   "outputs": [],
   "source": [
    "df = pd.read_csv('/kaggle/input/avocado-prices-2020/avocado-updated-2020.csv')"
   ]
  },
  {
   "cell_type": "markdown",
   "id": "caf91b84",
   "metadata": {
    "papermill": {
     "duration": 0.009981,
     "end_time": "2023-04-08T16:11:08.490360",
     "exception": false,
     "start_time": "2023-04-08T16:11:08.480379",
     "status": "completed"
    },
    "tags": []
   },
   "source": [
    "## 2.2. Exploración inicial del dataframe"
   ]
  },
  {
   "cell_type": "markdown",
   "id": "9cb96f5a",
   "metadata": {
    "papermill": {
     "duration": 0.009811,
     "end_time": "2023-04-08T16:11:08.510529",
     "exception": false,
     "start_time": "2023-04-08T16:11:08.500718",
     "status": "completed"
    },
    "tags": []
   },
   "source": [
    "### Info. general del dataset"
   ]
  },
  {
   "cell_type": "markdown",
   "id": "84dfc619",
   "metadata": {
    "papermill": {
     "duration": 0.01004,
     "end_time": "2023-04-08T16:11:08.530670",
     "exception": false,
     "start_time": "2023-04-08T16:11:08.520630",
     "status": "completed"
    },
    "tags": []
   },
   "source": [
    "El conjunto de datos contiene las siguientes variables:\n",
    "\n",
    "- `date`: Fecha de la medición del precio promedio de los aguacates.\n",
    "- `average_price`: Precio promedio de los aguacates en la región especificada en la fecha indicada.\n",
    "- `total_volume`: Cantidad total de aguacates vendidos\n",
    "- `4046`: Cantidad de aguacates vendidos con el código PLU 4046\n",
    "- `4225`: Cantidad de aguacates vendidos con el código PLU 4225\n",
    "- `4770`: Cantidad de aguacates vendidos con el código PLU 4770\n",
    "- `total_bags`: Cantidad total de bolsas de aguacates vendidas\n",
    "- `small_bags`: Cantidad de bolsas pequeñas de aguacates vendidas\n",
    "- `large_bags`: Cantidad de bolsas grandes de aguacates vendidas\n",
    "- `xlarge_bags`: Cantidad de bolsas extra grandes de aguacates vendidas\n",
    "- `type`: Tipo de aguacate vendido, puede ser convencional o orgánico.\n",
    "- `year`: Año en el que se realizó la medición\n",
    "- `geography`: Región geográfica en la que se realizó la medición"
   ]
  },
  {
   "cell_type": "markdown",
   "id": "78db5425",
   "metadata": {
    "papermill": {
     "duration": 0.00979,
     "end_time": "2023-04-08T16:11:08.550617",
     "exception": false,
     "start_time": "2023-04-08T16:11:08.540827",
     "status": "completed"
    },
    "tags": []
   },
   "source": [
    "### Variables categoricas\n",
    "- Tipo de aguacate\n",
    "- Ubicación de venta\n",
    "\n",
    "### Variables numéricas\n",
    "- Todas las demás"
   ]
  },
  {
   "cell_type": "code",
   "execution_count": 4,
   "id": "5b43a870",
   "metadata": {
    "execution": {
     "iopub.execute_input": "2023-04-08T16:11:08.572469Z",
     "iopub.status.busy": "2023-04-08T16:11:08.572083Z",
     "iopub.status.idle": "2023-04-08T16:11:08.611699Z",
     "shell.execute_reply": "2023-04-08T16:11:08.610685Z"
    },
    "papermill": {
     "duration": 0.053686,
     "end_time": "2023-04-08T16:11:08.614189",
     "exception": false,
     "start_time": "2023-04-08T16:11:08.560503",
     "status": "completed"
    },
    "tags": []
   },
   "outputs": [
    {
     "data": {
      "text/html": [
       "<div>\n",
       "<style scoped>\n",
       "    .dataframe tbody tr th:only-of-type {\n",
       "        vertical-align: middle;\n",
       "    }\n",
       "\n",
       "    .dataframe tbody tr th {\n",
       "        vertical-align: top;\n",
       "    }\n",
       "\n",
       "    .dataframe thead th {\n",
       "        text-align: right;\n",
       "    }\n",
       "</style>\n",
       "<table border=\"1\" class=\"dataframe\">\n",
       "  <thead>\n",
       "    <tr style=\"text-align: right;\">\n",
       "      <th></th>\n",
       "      <th>date</th>\n",
       "      <th>average_price</th>\n",
       "      <th>total_volume</th>\n",
       "      <th>4046</th>\n",
       "      <th>4225</th>\n",
       "      <th>4770</th>\n",
       "      <th>total_bags</th>\n",
       "      <th>small_bags</th>\n",
       "      <th>large_bags</th>\n",
       "      <th>xlarge_bags</th>\n",
       "      <th>type</th>\n",
       "      <th>year</th>\n",
       "      <th>geography</th>\n",
       "    </tr>\n",
       "  </thead>\n",
       "  <tbody>\n",
       "    <tr>\n",
       "      <th>0</th>\n",
       "      <td>2015-01-04</td>\n",
       "      <td>1.22</td>\n",
       "      <td>40873.28</td>\n",
       "      <td>2819.50</td>\n",
       "      <td>28287.42</td>\n",
       "      <td>49.90</td>\n",
       "      <td>9716.46</td>\n",
       "      <td>9186.93</td>\n",
       "      <td>529.53</td>\n",
       "      <td>0.00</td>\n",
       "      <td>conventional</td>\n",
       "      <td>2015</td>\n",
       "      <td>Albany</td>\n",
       "    </tr>\n",
       "    <tr>\n",
       "      <th>1</th>\n",
       "      <td>2015-01-04</td>\n",
       "      <td>1.79</td>\n",
       "      <td>1373.95</td>\n",
       "      <td>57.42</td>\n",
       "      <td>153.88</td>\n",
       "      <td>0.00</td>\n",
       "      <td>1162.65</td>\n",
       "      <td>1162.65</td>\n",
       "      <td>0.00</td>\n",
       "      <td>0.00</td>\n",
       "      <td>organic</td>\n",
       "      <td>2015</td>\n",
       "      <td>Albany</td>\n",
       "    </tr>\n",
       "    <tr>\n",
       "      <th>2</th>\n",
       "      <td>2015-01-04</td>\n",
       "      <td>1.00</td>\n",
       "      <td>435021.49</td>\n",
       "      <td>364302.39</td>\n",
       "      <td>23821.16</td>\n",
       "      <td>82.15</td>\n",
       "      <td>46815.79</td>\n",
       "      <td>16707.15</td>\n",
       "      <td>30108.64</td>\n",
       "      <td>0.00</td>\n",
       "      <td>conventional</td>\n",
       "      <td>2015</td>\n",
       "      <td>Atlanta</td>\n",
       "    </tr>\n",
       "    <tr>\n",
       "      <th>3</th>\n",
       "      <td>2015-01-04</td>\n",
       "      <td>1.76</td>\n",
       "      <td>3846.69</td>\n",
       "      <td>1500.15</td>\n",
       "      <td>938.35</td>\n",
       "      <td>0.00</td>\n",
       "      <td>1408.19</td>\n",
       "      <td>1071.35</td>\n",
       "      <td>336.84</td>\n",
       "      <td>0.00</td>\n",
       "      <td>organic</td>\n",
       "      <td>2015</td>\n",
       "      <td>Atlanta</td>\n",
       "    </tr>\n",
       "    <tr>\n",
       "      <th>4</th>\n",
       "      <td>2015-01-04</td>\n",
       "      <td>1.08</td>\n",
       "      <td>788025.06</td>\n",
       "      <td>53987.31</td>\n",
       "      <td>552906.04</td>\n",
       "      <td>39995.03</td>\n",
       "      <td>141136.68</td>\n",
       "      <td>137146.07</td>\n",
       "      <td>3990.61</td>\n",
       "      <td>0.00</td>\n",
       "      <td>conventional</td>\n",
       "      <td>2015</td>\n",
       "      <td>Baltimore/Washington</td>\n",
       "    </tr>\n",
       "    <tr>\n",
       "      <th>...</th>\n",
       "      <td>...</td>\n",
       "      <td>...</td>\n",
       "      <td>...</td>\n",
       "      <td>...</td>\n",
       "      <td>...</td>\n",
       "      <td>...</td>\n",
       "      <td>...</td>\n",
       "      <td>...</td>\n",
       "      <td>...</td>\n",
       "      <td>...</td>\n",
       "      <td>...</td>\n",
       "      <td>...</td>\n",
       "      <td>...</td>\n",
       "    </tr>\n",
       "    <tr>\n",
       "      <th>33040</th>\n",
       "      <td>2020-11-29</td>\n",
       "      <td>1.47</td>\n",
       "      <td>1583056.27</td>\n",
       "      <td>67544.48</td>\n",
       "      <td>97996.46</td>\n",
       "      <td>2617.17</td>\n",
       "      <td>1414878.10</td>\n",
       "      <td>906711.52</td>\n",
       "      <td>480191.83</td>\n",
       "      <td>27974.75</td>\n",
       "      <td>organic</td>\n",
       "      <td>2020</td>\n",
       "      <td>Total U.S.</td>\n",
       "    </tr>\n",
       "    <tr>\n",
       "      <th>33041</th>\n",
       "      <td>2020-11-29</td>\n",
       "      <td>0.91</td>\n",
       "      <td>5811114.22</td>\n",
       "      <td>1352877.53</td>\n",
       "      <td>589061.83</td>\n",
       "      <td>19741.90</td>\n",
       "      <td>3790665.29</td>\n",
       "      <td>2197611.02</td>\n",
       "      <td>1531530.14</td>\n",
       "      <td>61524.13</td>\n",
       "      <td>conventional</td>\n",
       "      <td>2020</td>\n",
       "      <td>West</td>\n",
       "    </tr>\n",
       "    <tr>\n",
       "      <th>33042</th>\n",
       "      <td>2020-11-29</td>\n",
       "      <td>1.48</td>\n",
       "      <td>289961.27</td>\n",
       "      <td>13273.75</td>\n",
       "      <td>19341.09</td>\n",
       "      <td>636.51</td>\n",
       "      <td>256709.92</td>\n",
       "      <td>122606.21</td>\n",
       "      <td>134103.71</td>\n",
       "      <td>0.00</td>\n",
       "      <td>organic</td>\n",
       "      <td>2020</td>\n",
       "      <td>West</td>\n",
       "    </tr>\n",
       "    <tr>\n",
       "      <th>33043</th>\n",
       "      <td>2020-11-29</td>\n",
       "      <td>0.67</td>\n",
       "      <td>822818.75</td>\n",
       "      <td>234688.01</td>\n",
       "      <td>80205.15</td>\n",
       "      <td>10543.63</td>\n",
       "      <td>497381.96</td>\n",
       "      <td>285764.11</td>\n",
       "      <td>210808.02</td>\n",
       "      <td>809.83</td>\n",
       "      <td>conventional</td>\n",
       "      <td>2020</td>\n",
       "      <td>West Tex/New Mexico</td>\n",
       "    </tr>\n",
       "    <tr>\n",
       "      <th>33044</th>\n",
       "      <td>2020-11-29</td>\n",
       "      <td>1.35</td>\n",
       "      <td>24106.58</td>\n",
       "      <td>1236.96</td>\n",
       "      <td>617.80</td>\n",
       "      <td>1564.98</td>\n",
       "      <td>20686.84</td>\n",
       "      <td>17824.52</td>\n",
       "      <td>2862.32</td>\n",
       "      <td>0.00</td>\n",
       "      <td>organic</td>\n",
       "      <td>2020</td>\n",
       "      <td>West Tex/New Mexico</td>\n",
       "    </tr>\n",
       "  </tbody>\n",
       "</table>\n",
       "<p>33045 rows × 13 columns</p>\n",
       "</div>"
      ],
      "text/plain": [
       "             date  average_price  total_volume        4046       4225  \\\n",
       "0      2015-01-04           1.22      40873.28     2819.50   28287.42   \n",
       "1      2015-01-04           1.79       1373.95       57.42     153.88   \n",
       "2      2015-01-04           1.00     435021.49   364302.39   23821.16   \n",
       "3      2015-01-04           1.76       3846.69     1500.15     938.35   \n",
       "4      2015-01-04           1.08     788025.06    53987.31  552906.04   \n",
       "...           ...            ...           ...         ...        ...   \n",
       "33040  2020-11-29           1.47    1583056.27    67544.48   97996.46   \n",
       "33041  2020-11-29           0.91    5811114.22  1352877.53  589061.83   \n",
       "33042  2020-11-29           1.48     289961.27    13273.75   19341.09   \n",
       "33043  2020-11-29           0.67     822818.75   234688.01   80205.15   \n",
       "33044  2020-11-29           1.35      24106.58     1236.96     617.80   \n",
       "\n",
       "           4770  total_bags  small_bags  large_bags  xlarge_bags  \\\n",
       "0         49.90     9716.46     9186.93      529.53         0.00   \n",
       "1          0.00     1162.65     1162.65        0.00         0.00   \n",
       "2         82.15    46815.79    16707.15    30108.64         0.00   \n",
       "3          0.00     1408.19     1071.35      336.84         0.00   \n",
       "4      39995.03   141136.68   137146.07     3990.61         0.00   \n",
       "...         ...         ...         ...         ...          ...   \n",
       "33040   2617.17  1414878.10   906711.52   480191.83     27974.75   \n",
       "33041  19741.90  3790665.29  2197611.02  1531530.14     61524.13   \n",
       "33042    636.51   256709.92   122606.21   134103.71         0.00   \n",
       "33043  10543.63   497381.96   285764.11   210808.02       809.83   \n",
       "33044   1564.98    20686.84    17824.52     2862.32         0.00   \n",
       "\n",
       "               type  year             geography  \n",
       "0      conventional  2015                Albany  \n",
       "1           organic  2015                Albany  \n",
       "2      conventional  2015               Atlanta  \n",
       "3           organic  2015               Atlanta  \n",
       "4      conventional  2015  Baltimore/Washington  \n",
       "...             ...   ...                   ...  \n",
       "33040       organic  2020            Total U.S.  \n",
       "33041  conventional  2020                  West  \n",
       "33042       organic  2020                  West  \n",
       "33043  conventional  2020   West Tex/New Mexico  \n",
       "33044       organic  2020   West Tex/New Mexico  \n",
       "\n",
       "[33045 rows x 13 columns]"
      ]
     },
     "execution_count": 4,
     "metadata": {},
     "output_type": "execute_result"
    }
   ],
   "source": [
    "df"
   ]
  },
  {
   "cell_type": "code",
   "execution_count": 5,
   "id": "fbc46ae8",
   "metadata": {
    "execution": {
     "iopub.execute_input": "2023-04-08T16:11:08.638216Z",
     "iopub.status.busy": "2023-04-08T16:11:08.637618Z",
     "iopub.status.idle": "2023-04-08T16:11:08.666988Z",
     "shell.execute_reply": "2023-04-08T16:11:08.665594Z"
    },
    "papermill": {
     "duration": 0.044386,
     "end_time": "2023-04-08T16:11:08.669481",
     "exception": false,
     "start_time": "2023-04-08T16:11:08.625095",
     "status": "completed"
    },
    "tags": []
   },
   "outputs": [
    {
     "name": "stdout",
     "output_type": "stream",
     "text": [
      "<class 'pandas.core.frame.DataFrame'>\n",
      "RangeIndex: 33045 entries, 0 to 33044\n",
      "Data columns (total 13 columns):\n",
      " #   Column         Non-Null Count  Dtype  \n",
      "---  ------         --------------  -----  \n",
      " 0   date           33045 non-null  object \n",
      " 1   average_price  33045 non-null  float64\n",
      " 2   total_volume   33045 non-null  float64\n",
      " 3   4046           33045 non-null  float64\n",
      " 4   4225           33045 non-null  float64\n",
      " 5   4770           33045 non-null  float64\n",
      " 6   total_bags     33045 non-null  float64\n",
      " 7   small_bags     33045 non-null  float64\n",
      " 8   large_bags     33045 non-null  float64\n",
      " 9   xlarge_bags    33045 non-null  float64\n",
      " 10  type           33045 non-null  object \n",
      " 11  year           33045 non-null  int64  \n",
      " 12  geography      33045 non-null  object \n",
      "dtypes: float64(9), int64(1), object(3)\n",
      "memory usage: 3.3+ MB\n"
     ]
    }
   ],
   "source": [
    "df.info()"
   ]
  },
  {
   "cell_type": "markdown",
   "id": "611dc659",
   "metadata": {
    "papermill": {
     "duration": 0.010219,
     "end_time": "2023-04-08T16:11:08.690472",
     "exception": false,
     "start_time": "2023-04-08T16:11:08.680253",
     "status": "completed"
    },
    "tags": []
   },
   "source": [
    "### Dimensión del datafrane"
   ]
  },
  {
   "cell_type": "code",
   "execution_count": 6,
   "id": "e00ade85",
   "metadata": {
    "execution": {
     "iopub.execute_input": "2023-04-08T16:11:08.713560Z",
     "iopub.status.busy": "2023-04-08T16:11:08.712663Z",
     "iopub.status.idle": "2023-04-08T16:11:08.719258Z",
     "shell.execute_reply": "2023-04-08T16:11:08.718200Z"
    },
    "papermill": {
     "duration": 0.020593,
     "end_time": "2023-04-08T16:11:08.721485",
     "exception": false,
     "start_time": "2023-04-08T16:11:08.700892",
     "status": "completed"
    },
    "tags": []
   },
   "outputs": [
    {
     "data": {
      "text/plain": [
       "(33045, 13)"
      ]
     },
     "execution_count": 6,
     "metadata": {},
     "output_type": "execute_result"
    }
   ],
   "source": [
    "df.shape"
   ]
  },
  {
   "cell_type": "markdown",
   "id": "44b79f02",
   "metadata": {
    "papermill": {
     "duration": 0.010251,
     "end_time": "2023-04-08T16:11:08.742390",
     "exception": false,
     "start_time": "2023-04-08T16:11:08.732139",
     "status": "completed"
    },
    "tags": []
   },
   "source": [
    "### Comprobación de valores faltantes"
   ]
  },
  {
   "cell_type": "markdown",
   "id": "40e29804",
   "metadata": {
    "papermill": {
     "duration": 0.010178,
     "end_time": "2023-04-08T16:11:08.763076",
     "exception": false,
     "start_time": "2023-04-08T16:11:08.752898",
     "status": "completed"
    },
    "tags": []
   },
   "source": [
    "El dataset esta completo y no cuenta con valores faltantes"
   ]
  },
  {
   "cell_type": "code",
   "execution_count": 7,
   "id": "beef0761",
   "metadata": {
    "execution": {
     "iopub.execute_input": "2023-04-08T16:11:08.785607Z",
     "iopub.status.busy": "2023-04-08T16:11:08.785225Z",
     "iopub.status.idle": "2023-04-08T16:11:08.796886Z",
     "shell.execute_reply": "2023-04-08T16:11:08.796200Z"
    },
    "papermill": {
     "duration": 0.025003,
     "end_time": "2023-04-08T16:11:08.798532",
     "exception": false,
     "start_time": "2023-04-08T16:11:08.773529",
     "status": "completed"
    },
    "tags": []
   },
   "outputs": [
    {
     "data": {
      "text/plain": [
       "date             0\n",
       "average_price    0\n",
       "total_volume     0\n",
       "4046             0\n",
       "4225             0\n",
       "4770             0\n",
       "total_bags       0\n",
       "small_bags       0\n",
       "large_bags       0\n",
       "xlarge_bags      0\n",
       "type             0\n",
       "year             0\n",
       "geography        0\n",
       "dtype: int64"
      ]
     },
     "execution_count": 7,
     "metadata": {},
     "output_type": "execute_result"
    }
   ],
   "source": [
    "df.isnull().sum(axis=0)"
   ]
  },
  {
   "cell_type": "markdown",
   "id": "a0d369f0",
   "metadata": {
    "papermill": {
     "duration": 0.010317,
     "end_time": "2023-04-08T16:11:08.819659",
     "exception": false,
     "start_time": "2023-04-08T16:11:08.809342",
     "status": "completed"
    },
    "tags": []
   },
   "source": [
    "## 3. Preprocesamiento"
   ]
  },
  {
   "cell_type": "markdown",
   "id": "8e2ee8e0",
   "metadata": {
    "papermill": {
     "duration": 0.010317,
     "end_time": "2023-04-08T16:11:08.840791",
     "exception": false,
     "start_time": "2023-04-08T16:11:08.830474",
     "status": "completed"
    },
    "tags": []
   },
   "source": [
    "## 3.1. Conversión de `date`. De cadena de caracteres a formato de fecha y hora"
   ]
  },
  {
   "cell_type": "code",
   "execution_count": 8,
   "id": "424ff1d0",
   "metadata": {
    "execution": {
     "iopub.execute_input": "2023-04-08T16:11:08.864195Z",
     "iopub.status.busy": "2023-04-08T16:11:08.863576Z",
     "iopub.status.idle": "2023-04-08T16:11:08.875850Z",
     "shell.execute_reply": "2023-04-08T16:11:08.874641Z"
    },
    "papermill": {
     "duration": 0.026507,
     "end_time": "2023-04-08T16:11:08.878020",
     "exception": false,
     "start_time": "2023-04-08T16:11:08.851513",
     "status": "completed"
    },
    "tags": []
   },
   "outputs": [],
   "source": [
    "df['date'] = pd.to_datetime(df['date'])"
   ]
  },
  {
   "cell_type": "code",
   "execution_count": 9,
   "id": "243bafcf",
   "metadata": {
    "execution": {
     "iopub.execute_input": "2023-04-08T16:11:08.901029Z",
     "iopub.status.busy": "2023-04-08T16:11:08.900673Z",
     "iopub.status.idle": "2023-04-08T16:11:08.908281Z",
     "shell.execute_reply": "2023-04-08T16:11:08.907405Z"
    },
    "papermill": {
     "duration": 0.021201,
     "end_time": "2023-04-08T16:11:08.910021",
     "exception": false,
     "start_time": "2023-04-08T16:11:08.888820",
     "status": "completed"
    },
    "tags": []
   },
   "outputs": [
    {
     "data": {
      "text/plain": [
       "date             datetime64[ns]\n",
       "average_price           float64\n",
       "total_volume            float64\n",
       "4046                    float64\n",
       "4225                    float64\n",
       "4770                    float64\n",
       "total_bags              float64\n",
       "small_bags              float64\n",
       "large_bags              float64\n",
       "xlarge_bags             float64\n",
       "type                     object\n",
       "year                      int64\n",
       "geography                object\n",
       "dtype: object"
      ]
     },
     "execution_count": 9,
     "metadata": {},
     "output_type": "execute_result"
    }
   ],
   "source": [
    "df.dtypes"
   ]
  },
  {
   "cell_type": "markdown",
   "id": "da5db708",
   "metadata": {
    "papermill": {
     "duration": 0.010246,
     "end_time": "2023-04-08T16:11:08.930839",
     "exception": false,
     "start_time": "2023-04-08T16:11:08.920593",
     "status": "completed"
    },
    "tags": []
   },
   "source": [
    "## 3.2. Eliminación de datos correspondientes a regiones de EE.UU. sumadas"
   ]
  },
  {
   "cell_type": "markdown",
   "id": "839e6711",
   "metadata": {
    "papermill": {
     "duration": 0.011051,
     "end_time": "2023-04-08T16:11:08.953771",
     "exception": false,
     "start_time": "2023-04-08T16:11:08.942720",
     "status": "completed"
    },
    "tags": []
   },
   "source": [
    "- Como se observa a continuación, en `geography` (Ubicación en la que se realizó la medición) existen 5 regiones `West`, `Midsouth`, `Northeast`, `Southeast`, y`South Central` que representan una suma de los datos de una región geográfica grande, en lugar de una región específica.\n",
    "- Con respecto a `Total U.S.`, de acuerdo con esta [página](https://hassavocadoboard.com/report/total-us/), los datos están agregados para las siguientes 8 áreas geográficas de los Estados Unidos: California, Great Lakes, Midsouth, Northeast, Plains, Southeast, South Central y West. Sin embargo, el promedio de los datos para estas regiones y áreas no resulta en entradas iguales a las de los datos de Total U.S., lo que podría resultar en posibles errores de análisis.\n",
    "- Si se desea analizar datos específicos de cada región geográfica individual, entonces se deberían eliminar estas filas."
   ]
  },
  {
   "cell_type": "code",
   "execution_count": 10,
   "id": "2b11ffcd",
   "metadata": {
    "execution": {
     "iopub.execute_input": "2023-04-08T16:11:08.978561Z",
     "iopub.status.busy": "2023-04-08T16:11:08.977922Z",
     "iopub.status.idle": "2023-04-08T16:11:08.985710Z",
     "shell.execute_reply": "2023-04-08T16:11:08.984406Z"
    },
    "papermill": {
     "duration": 0.022489,
     "end_time": "2023-04-08T16:11:08.987714",
     "exception": false,
     "start_time": "2023-04-08T16:11:08.965225",
     "status": "completed"
    },
    "tags": []
   },
   "outputs": [
    {
     "name": "stdout",
     "output_type": "stream",
     "text": [
      "['Albany' 'Atlanta' 'Baltimore/Washington' 'Boise' 'Boston'\n",
      " 'Buffalo/Rochester' 'California' 'Charlotte' 'Chicago'\n",
      " 'Cincinnati/Dayton' 'Columbus' 'Dallas/Ft. Worth' 'Denver' 'Detroit'\n",
      " 'Grand Rapids' 'Great Lakes' 'Harrisburg/Scranton' 'Hartford/Springfield'\n",
      " 'Houston' 'Indianapolis' 'Jacksonville' 'Las Vegas' 'Los Angeles'\n",
      " 'Louisville' 'Miami/Ft. Lauderdale' 'Midsouth' 'Nashville'\n",
      " 'New Orleans/Mobile' 'New York' 'Northeast' 'Northern New England'\n",
      " 'Orlando' 'Philadelphia' 'Phoenix/Tucson' 'Pittsburgh' 'Plains'\n",
      " 'Portland' 'Raleigh/Greensboro' 'Richmond/Norfolk' 'Roanoke' 'Sacramento'\n",
      " 'San Diego' 'San Francisco' 'Seattle' 'South Carolina' 'South Central'\n",
      " 'Southeast' 'Spokane' 'St. Louis' 'Syracuse' 'Tampa' 'Total U.S.' 'West'\n",
      " 'West Tex/New Mexico']\n"
     ]
    }
   ],
   "source": [
    "print(df['geography'].unique())"
   ]
  },
  {
   "cell_type": "markdown",
   "id": "3f722439",
   "metadata": {
    "papermill": {
     "duration": 0.010582,
     "end_time": "2023-04-08T16:11:09.009331",
     "exception": false,
     "start_time": "2023-04-08T16:11:08.998749",
     "status": "completed"
    },
    "tags": []
   },
   "source": [
    "En este análisis se eliminaran estas regiones geograficas grandes, ya que generarían conclusiones erroneas"
   ]
  },
  {
   "cell_type": "code",
   "execution_count": 11,
   "id": "2b3bd0f9",
   "metadata": {
    "execution": {
     "iopub.execute_input": "2023-04-08T16:11:09.032251Z",
     "iopub.status.busy": "2023-04-08T16:11:09.031824Z",
     "iopub.status.idle": "2023-04-08T16:11:09.044818Z",
     "shell.execute_reply": "2023-04-08T16:11:09.043541Z"
    },
    "papermill": {
     "duration": 0.026904,
     "end_time": "2023-04-08T16:11:09.046792",
     "exception": false,
     "start_time": "2023-04-08T16:11:09.019888",
     "status": "completed"
    },
    "tags": []
   },
   "outputs": [],
   "source": [
    "filt = df['geography'].isin(['Total U.S.', 'West', 'Midsouth', 'Northeast', 'Southeast', 'South Central'])\n",
    "df = df[~filt]"
   ]
  },
  {
   "cell_type": "markdown",
   "id": "ffb7c2ec",
   "metadata": {
    "execution": {
     "iopub.execute_input": "2023-04-08T14:25:18.849983Z",
     "iopub.status.busy": "2023-04-08T14:25:18.849535Z",
     "iopub.status.idle": "2023-04-08T14:25:18.858319Z",
     "shell.execute_reply": "2023-04-08T14:25:18.856551Z",
     "shell.execute_reply.started": "2023-04-08T14:25:18.849945Z"
    },
    "papermill": {
     "duration": 0.010611,
     "end_time": "2023-04-08T16:11:09.068324",
     "exception": false,
     "start_time": "2023-04-08T16:11:09.057713",
     "status": "completed"
    },
    "tags": []
   },
   "source": [
    "Entonces las regiones quedarán de la siguiente manera"
   ]
  },
  {
   "cell_type": "code",
   "execution_count": 12,
   "id": "8e461fb8",
   "metadata": {
    "execution": {
     "iopub.execute_input": "2023-04-08T16:11:09.091501Z",
     "iopub.status.busy": "2023-04-08T16:11:09.091115Z",
     "iopub.status.idle": "2023-04-08T16:11:09.098774Z",
     "shell.execute_reply": "2023-04-08T16:11:09.097482Z"
    },
    "papermill": {
     "duration": 0.021572,
     "end_time": "2023-04-08T16:11:09.100541",
     "exception": false,
     "start_time": "2023-04-08T16:11:09.078969",
     "status": "completed"
    },
    "tags": []
   },
   "outputs": [
    {
     "name": "stdout",
     "output_type": "stream",
     "text": [
      "['Albany' 'Atlanta' 'Baltimore/Washington' 'Boise' 'Boston'\n",
      " 'Buffalo/Rochester' 'California' 'Charlotte' 'Chicago'\n",
      " 'Cincinnati/Dayton' 'Columbus' 'Dallas/Ft. Worth' 'Denver' 'Detroit'\n",
      " 'Grand Rapids' 'Great Lakes' 'Harrisburg/Scranton' 'Hartford/Springfield'\n",
      " 'Houston' 'Indianapolis' 'Jacksonville' 'Las Vegas' 'Los Angeles'\n",
      " 'Louisville' 'Miami/Ft. Lauderdale' 'Nashville' 'New Orleans/Mobile'\n",
      " 'New York' 'Northern New England' 'Orlando' 'Philadelphia'\n",
      " 'Phoenix/Tucson' 'Pittsburgh' 'Plains' 'Portland' 'Raleigh/Greensboro'\n",
      " 'Richmond/Norfolk' 'Roanoke' 'Sacramento' 'San Diego' 'San Francisco'\n",
      " 'Seattle' 'South Carolina' 'Spokane' 'St. Louis' 'Syracuse' 'Tampa'\n",
      " 'West Tex/New Mexico']\n"
     ]
    }
   ],
   "source": [
    "print(df['geography'].unique())"
   ]
  },
  {
   "cell_type": "markdown",
   "id": "3ec2cf2c",
   "metadata": {
    "papermill": {
     "duration": 0.010511,
     "end_time": "2023-04-08T16:11:09.121999",
     "exception": false,
     "start_time": "2023-04-08T16:11:09.111488",
     "status": "completed"
    },
    "tags": []
   },
   "source": [
    "## 3.3. Dataframe preprocesado"
   ]
  },
  {
   "cell_type": "code",
   "execution_count": 13,
   "id": "e2dc96e8",
   "metadata": {
    "execution": {
     "iopub.execute_input": "2023-04-08T16:11:09.145742Z",
     "iopub.status.busy": "2023-04-08T16:11:09.145010Z",
     "iopub.status.idle": "2023-04-08T16:11:09.161681Z",
     "shell.execute_reply": "2023-04-08T16:11:09.160501Z"
    },
    "papermill": {
     "duration": 0.031012,
     "end_time": "2023-04-08T16:11:09.163794",
     "exception": false,
     "start_time": "2023-04-08T16:11:09.132782",
     "status": "completed"
    },
    "tags": []
   },
   "outputs": [
    {
     "data": {
      "text/html": [
       "<div>\n",
       "<style scoped>\n",
       "    .dataframe tbody tr th:only-of-type {\n",
       "        vertical-align: middle;\n",
       "    }\n",
       "\n",
       "    .dataframe tbody tr th {\n",
       "        vertical-align: top;\n",
       "    }\n",
       "\n",
       "    .dataframe thead th {\n",
       "        text-align: right;\n",
       "    }\n",
       "</style>\n",
       "<table border=\"1\" class=\"dataframe\">\n",
       "  <thead>\n",
       "    <tr style=\"text-align: right;\">\n",
       "      <th></th>\n",
       "      <th>date</th>\n",
       "      <th>average_price</th>\n",
       "      <th>total_volume</th>\n",
       "      <th>4046</th>\n",
       "      <th>4225</th>\n",
       "      <th>4770</th>\n",
       "      <th>total_bags</th>\n",
       "      <th>small_bags</th>\n",
       "      <th>large_bags</th>\n",
       "      <th>xlarge_bags</th>\n",
       "      <th>type</th>\n",
       "      <th>year</th>\n",
       "      <th>geography</th>\n",
       "    </tr>\n",
       "  </thead>\n",
       "  <tbody>\n",
       "    <tr>\n",
       "      <th>0</th>\n",
       "      <td>2015-01-04</td>\n",
       "      <td>1.22</td>\n",
       "      <td>40873.28</td>\n",
       "      <td>2819.50</td>\n",
       "      <td>28287.42</td>\n",
       "      <td>49.90</td>\n",
       "      <td>9716.46</td>\n",
       "      <td>9186.93</td>\n",
       "      <td>529.53</td>\n",
       "      <td>0.0</td>\n",
       "      <td>conventional</td>\n",
       "      <td>2015</td>\n",
       "      <td>Albany</td>\n",
       "    </tr>\n",
       "    <tr>\n",
       "      <th>1</th>\n",
       "      <td>2015-01-04</td>\n",
       "      <td>1.79</td>\n",
       "      <td>1373.95</td>\n",
       "      <td>57.42</td>\n",
       "      <td>153.88</td>\n",
       "      <td>0.00</td>\n",
       "      <td>1162.65</td>\n",
       "      <td>1162.65</td>\n",
       "      <td>0.00</td>\n",
       "      <td>0.0</td>\n",
       "      <td>organic</td>\n",
       "      <td>2015</td>\n",
       "      <td>Albany</td>\n",
       "    </tr>\n",
       "    <tr>\n",
       "      <th>2</th>\n",
       "      <td>2015-01-04</td>\n",
       "      <td>1.00</td>\n",
       "      <td>435021.49</td>\n",
       "      <td>364302.39</td>\n",
       "      <td>23821.16</td>\n",
       "      <td>82.15</td>\n",
       "      <td>46815.79</td>\n",
       "      <td>16707.15</td>\n",
       "      <td>30108.64</td>\n",
       "      <td>0.0</td>\n",
       "      <td>conventional</td>\n",
       "      <td>2015</td>\n",
       "      <td>Atlanta</td>\n",
       "    </tr>\n",
       "  </tbody>\n",
       "</table>\n",
       "</div>"
      ],
      "text/plain": [
       "        date  average_price  total_volume       4046      4225   4770  \\\n",
       "0 2015-01-04           1.22      40873.28    2819.50  28287.42  49.90   \n",
       "1 2015-01-04           1.79       1373.95      57.42    153.88   0.00   \n",
       "2 2015-01-04           1.00     435021.49  364302.39  23821.16  82.15   \n",
       "\n",
       "   total_bags  small_bags  large_bags  xlarge_bags          type  year  \\\n",
       "0     9716.46     9186.93      529.53          0.0  conventional  2015   \n",
       "1     1162.65     1162.65        0.00          0.0       organic  2015   \n",
       "2    46815.79    16707.15    30108.64          0.0  conventional  2015   \n",
       "\n",
       "  geography  \n",
       "0    Albany  \n",
       "1    Albany  \n",
       "2   Atlanta  "
      ]
     },
     "execution_count": 13,
     "metadata": {},
     "output_type": "execute_result"
    }
   ],
   "source": [
    "df.head(3)"
   ]
  },
  {
   "cell_type": "code",
   "execution_count": 14,
   "id": "a2fa031c",
   "metadata": {
    "execution": {
     "iopub.execute_input": "2023-04-08T16:11:09.189510Z",
     "iopub.status.busy": "2023-04-08T16:11:09.189118Z",
     "iopub.status.idle": "2023-04-08T16:11:09.205137Z",
     "shell.execute_reply": "2023-04-08T16:11:09.203897Z"
    },
    "papermill": {
     "duration": 0.031076,
     "end_time": "2023-04-08T16:11:09.207105",
     "exception": false,
     "start_time": "2023-04-08T16:11:09.176029",
     "status": "completed"
    },
    "tags": []
   },
   "outputs": [
    {
     "name": "stdout",
     "output_type": "stream",
     "text": [
      "<class 'pandas.core.frame.DataFrame'>\n",
      "Int64Index: 29373 entries, 0 to 33044\n",
      "Data columns (total 13 columns):\n",
      " #   Column         Non-Null Count  Dtype         \n",
      "---  ------         --------------  -----         \n",
      " 0   date           29373 non-null  datetime64[ns]\n",
      " 1   average_price  29373 non-null  float64       \n",
      " 2   total_volume   29373 non-null  float64       \n",
      " 3   4046           29373 non-null  float64       \n",
      " 4   4225           29373 non-null  float64       \n",
      " 5   4770           29373 non-null  float64       \n",
      " 6   total_bags     29373 non-null  float64       \n",
      " 7   small_bags     29373 non-null  float64       \n",
      " 8   large_bags     29373 non-null  float64       \n",
      " 9   xlarge_bags    29373 non-null  float64       \n",
      " 10  type           29373 non-null  object        \n",
      " 11  year           29373 non-null  int64         \n",
      " 12  geography      29373 non-null  object        \n",
      "dtypes: datetime64[ns](1), float64(9), int64(1), object(2)\n",
      "memory usage: 3.1+ MB\n"
     ]
    }
   ],
   "source": [
    "df.info()"
   ]
  },
  {
   "cell_type": "markdown",
   "id": "27e8662c",
   "metadata": {
    "papermill": {
     "duration": 0.011387,
     "end_time": "2023-04-08T16:11:09.230118",
     "exception": false,
     "start_time": "2023-04-08T16:11:09.218731",
     "status": "completed"
    },
    "tags": []
   },
   "source": [
    "# 4. Análisis Univariado"
   ]
  },
  {
   "cell_type": "markdown",
   "id": "7ce72e5a",
   "metadata": {
    "papermill": {
     "duration": 0.011007,
     "end_time": "2023-04-08T16:11:09.252395",
     "exception": false,
     "start_time": "2023-04-08T16:11:09.241388",
     "status": "completed"
    },
    "tags": []
   },
   "source": [
    "**Observaciones**\n",
    "- k"
   ]
  },
  {
   "cell_type": "code",
   "execution_count": 15,
   "id": "b563317d",
   "metadata": {
    "execution": {
     "iopub.execute_input": "2023-04-08T16:11:09.276885Z",
     "iopub.status.busy": "2023-04-08T16:11:09.276562Z",
     "iopub.status.idle": "2023-04-08T16:11:09.390620Z",
     "shell.execute_reply": "2023-04-08T16:11:09.389820Z"
    },
    "papermill": {
     "duration": 0.128758,
     "end_time": "2023-04-08T16:11:09.392582",
     "exception": false,
     "start_time": "2023-04-08T16:11:09.263824",
     "status": "completed"
    },
    "tags": []
   },
   "outputs": [
    {
     "data": {
      "text/html": [
       "<style type=\"text/css\">\n",
       "#T_63212_row0_col0, #T_63212_row0_col1, #T_63212_row0_col2, #T_63212_row0_col3, #T_63212_row0_col4, #T_63212_row0_col5, #T_63212_row0_col6, #T_63212_row0_col7, #T_63212_row1_col0, #T_63212_row2_col0, #T_63212_row2_col3, #T_63212_row3_col0, #T_63212_row3_col3, #T_63212_row4_col0, #T_63212_row4_col3, #T_63212_row4_col4, #T_63212_row4_col5, #T_63212_row5_col0, #T_63212_row5_col3, #T_63212_row6_col0, #T_63212_row6_col3, #T_63212_row7_col0, #T_63212_row7_col3, #T_63212_row8_col0, #T_63212_row8_col3, #T_63212_row8_col4, #T_63212_row8_col5, #T_63212_row8_col6, #T_63212_row9_col0, #T_63212_row9_col2, #T_63212_row9_col7 {\n",
       "  background-color: #f7fbff;\n",
       "  color: #000000;\n",
       "}\n",
       "#T_63212_row1_col1, #T_63212_row1_col2, #T_63212_row1_col4, #T_63212_row1_col5, #T_63212_row1_col6, #T_63212_row1_col7, #T_63212_row9_col3 {\n",
       "  background-color: #08306b;\n",
       "  color: #f1f1f1;\n",
       "}\n",
       "#T_63212_row1_col3, #T_63212_row2_col4 {\n",
       "  background-color: #eff6fc;\n",
       "  color: #000000;\n",
       "}\n",
       "#T_63212_row2_col1 {\n",
       "  background-color: #b8d5ea;\n",
       "  color: #000000;\n",
       "}\n",
       "#T_63212_row2_col2 {\n",
       "  background-color: #a6cee4;\n",
       "  color: #000000;\n",
       "}\n",
       "#T_63212_row2_col5 {\n",
       "  background-color: #e8f1fa;\n",
       "  color: #000000;\n",
       "}\n",
       "#T_63212_row2_col6, #T_63212_row3_col6 {\n",
       "  background-color: #caddf0;\n",
       "  color: #000000;\n",
       "}\n",
       "#T_63212_row2_col7 {\n",
       "  background-color: #8abfdd;\n",
       "  color: #000000;\n",
       "}\n",
       "#T_63212_row3_col1, #T_63212_row6_col2 {\n",
       "  background-color: #b7d4ea;\n",
       "  color: #000000;\n",
       "}\n",
       "#T_63212_row3_col2, #T_63212_row5_col6 {\n",
       "  background-color: #afd1e7;\n",
       "  color: #000000;\n",
       "}\n",
       "#T_63212_row3_col4 {\n",
       "  background-color: #d6e6f4;\n",
       "  color: #000000;\n",
       "}\n",
       "#T_63212_row3_col5 {\n",
       "  background-color: #d3e4f3;\n",
       "  color: #000000;\n",
       "}\n",
       "#T_63212_row3_col7 {\n",
       "  background-color: #a3cce3;\n",
       "  color: #000000;\n",
       "}\n",
       "#T_63212_row4_col1, #T_63212_row8_col2 {\n",
       "  background-color: #f2f7fd;\n",
       "  color: #000000;\n",
       "}\n",
       "#T_63212_row4_col2, #T_63212_row7_col5 {\n",
       "  background-color: #eef5fc;\n",
       "  color: #000000;\n",
       "}\n",
       "#T_63212_row4_col6, #T_63212_row8_col1 {\n",
       "  background-color: #f5fafe;\n",
       "  color: #000000;\n",
       "}\n",
       "#T_63212_row4_col7, #T_63212_row7_col6 {\n",
       "  background-color: #eaf2fb;\n",
       "  color: #000000;\n",
       "}\n",
       "#T_63212_row5_col1 {\n",
       "  background-color: #9dcae1;\n",
       "  color: #000000;\n",
       "}\n",
       "#T_63212_row5_col2 {\n",
       "  background-color: #91c3de;\n",
       "  color: #000000;\n",
       "}\n",
       "#T_63212_row5_col4 {\n",
       "  background-color: #4a98c9;\n",
       "  color: #f1f1f1;\n",
       "}\n",
       "#T_63212_row5_col5 {\n",
       "  background-color: #87bddc;\n",
       "  color: #000000;\n",
       "}\n",
       "#T_63212_row5_col7 {\n",
       "  background-color: #58a1cf;\n",
       "  color: #f1f1f1;\n",
       "}\n",
       "#T_63212_row6_col1 {\n",
       "  background-color: #c1d9ed;\n",
       "  color: #000000;\n",
       "}\n",
       "#T_63212_row6_col4 {\n",
       "  background-color: #99c7e0;\n",
       "  color: #000000;\n",
       "}\n",
       "#T_63212_row6_col5 {\n",
       "  background-color: #bcd7eb;\n",
       "  color: #000000;\n",
       "}\n",
       "#T_63212_row6_col6 {\n",
       "  background-color: #cadef0;\n",
       "  color: #000000;\n",
       "}\n",
       "#T_63212_row6_col7 {\n",
       "  background-color: #a5cde3;\n",
       "  color: #000000;\n",
       "}\n",
       "#T_63212_row7_col1 {\n",
       "  background-color: #e3eef9;\n",
       "  color: #000000;\n",
       "}\n",
       "#T_63212_row7_col2 {\n",
       "  background-color: #deebf7;\n",
       "  color: #000000;\n",
       "}\n",
       "#T_63212_row7_col4, #T_63212_row9_col5 {\n",
       "  background-color: #f3f8fe;\n",
       "  color: #000000;\n",
       "}\n",
       "#T_63212_row7_col7 {\n",
       "  background-color: #cde0f1;\n",
       "  color: #000000;\n",
       "}\n",
       "#T_63212_row8_col7 {\n",
       "  background-color: #eaf3fb;\n",
       "  color: #000000;\n",
       "}\n",
       "#T_63212_row9_col1, #T_63212_row9_col6 {\n",
       "  background-color: #f6faff;\n",
       "  color: #000000;\n",
       "}\n",
       "#T_63212_row9_col4 {\n",
       "  background-color: #d8e7f5;\n",
       "  color: #000000;\n",
       "}\n",
       "</style>\n",
       "<table id=\"T_63212_\">\n",
       "  <thead>\n",
       "    <tr>\n",
       "      <th class=\"blank level0\" >&nbsp;</th>\n",
       "      <th class=\"col_heading level0 col0\" >count</th>\n",
       "      <th class=\"col_heading level0 col1\" >mean</th>\n",
       "      <th class=\"col_heading level0 col2\" >std</th>\n",
       "      <th class=\"col_heading level0 col3\" >min</th>\n",
       "      <th class=\"col_heading level0 col4\" >25%</th>\n",
       "      <th class=\"col_heading level0 col5\" >50%</th>\n",
       "      <th class=\"col_heading level0 col6\" >75%</th>\n",
       "      <th class=\"col_heading level0 col7\" >max</th>\n",
       "    </tr>\n",
       "  </thead>\n",
       "  <tbody>\n",
       "    <tr>\n",
       "      <th id=\"T_63212_level0_row0\" class=\"row_heading level0 row0\" >average_price</th>\n",
       "      <td id=\"T_63212_row0_col0\" class=\"data row0 col0\" >29373.000000</td>\n",
       "      <td id=\"T_63212_row0_col1\" class=\"data row0 col1\" >1.385951</td>\n",
       "      <td id=\"T_63212_row0_col2\" class=\"data row0 col2\" >0.384179</td>\n",
       "      <td id=\"T_63212_row0_col3\" class=\"data row0 col3\" >0.440000</td>\n",
       "      <td id=\"T_63212_row0_col4\" class=\"data row0 col4\" >1.100000</td>\n",
       "      <td id=\"T_63212_row0_col5\" class=\"data row0 col5\" >1.350000</td>\n",
       "      <td id=\"T_63212_row0_col6\" class=\"data row0 col6\" >1.620000</td>\n",
       "      <td id=\"T_63212_row0_col7\" class=\"data row0 col7\" >3.250000</td>\n",
       "    </tr>\n",
       "    <tr>\n",
       "      <th id=\"T_63212_level0_row1\" class=\"row_heading level0 row1\" >total_volume</th>\n",
       "      <td id=\"T_63212_row1_col0\" class=\"data row1 col0\" >29373.000000</td>\n",
       "      <td id=\"T_63212_row1_col1\" class=\"data row1 col1\" >396991.059357</td>\n",
       "      <td id=\"T_63212_row1_col2\" class=\"data row1 col2\" >875284.940053</td>\n",
       "      <td id=\"T_63212_row1_col3\" class=\"data row1 col3\" >84.560000</td>\n",
       "      <td id=\"T_63212_row1_col4\" class=\"data row1 col4\" >12880.300000</td>\n",
       "      <td id=\"T_63212_row1_col5\" class=\"data row1 col5\" >94209.000000</td>\n",
       "      <td id=\"T_63212_row1_col6\" class=\"data row1 col6\" >406520.660000</td>\n",
       "      <td id=\"T_63212_row1_col7\" class=\"data row1 col7\" >11324682.730000</td>\n",
       "    </tr>\n",
       "    <tr>\n",
       "      <th id=\"T_63212_level0_row2\" class=\"row_heading level0 row2\" >4046</th>\n",
       "      <td id=\"T_63212_row2_col0\" class=\"data row2 col0\" >29373.000000</td>\n",
       "      <td id=\"T_63212_row2_col1\" class=\"data row2 col1\" >117678.750611</td>\n",
       "      <td id=\"T_63212_row2_col2\" class=\"data row2 col2\" >305091.716146</td>\n",
       "      <td id=\"T_63212_row2_col3\" class=\"data row2 col3\" >0.000000</td>\n",
       "      <td id=\"T_63212_row2_col4\" class=\"data row2 col4\" >548.940000</td>\n",
       "      <td id=\"T_63212_row2_col5\" class=\"data row2 col5\" >7086.890000</td>\n",
       "      <td id=\"T_63212_row2_col6\" class=\"data row2 col6\" >94536.730000</td>\n",
       "      <td id=\"T_63212_row2_col7\" class=\"data row2 col7\" >4794142.140000</td>\n",
       "    </tr>\n",
       "    <tr>\n",
       "      <th id=\"T_63212_level0_row3\" class=\"row_heading level0 row3\" >4225</th>\n",
       "      <td id=\"T_63212_row3_col0\" class=\"data row3 col0\" >29373.000000</td>\n",
       "      <td id=\"T_63212_row3_col1\" class=\"data row3 col1\" >118678.243686</td>\n",
       "      <td id=\"T_63212_row3_col2\" class=\"data row3 col2\" >283278.693988</td>\n",
       "      <td id=\"T_63212_row3_col3\" class=\"data row3 col3\" >0.000000</td>\n",
       "      <td id=\"T_63212_row3_col4\" class=\"data row3 col4\" >2146.330000</td>\n",
       "      <td id=\"T_63212_row3_col5\" class=\"data row3 col5\" >17099.100000</td>\n",
       "      <td id=\"T_63212_row3_col6\" class=\"data row3 col6\" >95085.100000</td>\n",
       "      <td id=\"T_63212_row3_col7\" class=\"data row3 col7\" >4097591.670000</td>\n",
       "    </tr>\n",
       "    <tr>\n",
       "      <th id=\"T_63212_level0_row4\" class=\"row_heading level0 row4\" >4770</th>\n",
       "      <td id=\"T_63212_row4_col0\" class=\"data row4 col0\" >29373.000000</td>\n",
       "      <td id=\"T_63212_row4_col1\" class=\"data row4 col1\" >11244.410539</td>\n",
       "      <td id=\"T_63212_row4_col2\" class=\"data row4 col2\" >42664.431891</td>\n",
       "      <td id=\"T_63212_row4_col3\" class=\"data row4 col3\" >0.000000</td>\n",
       "      <td id=\"T_63212_row4_col4\" class=\"data row4 col4\" >0.000000</td>\n",
       "      <td id=\"T_63212_row4_col5\" class=\"data row4 col5\" >100.000000</td>\n",
       "      <td id=\"T_63212_row4_col6\" class=\"data row4 col6\" >3385.240000</td>\n",
       "      <td id=\"T_63212_row4_col7\" class=\"data row4 col7\" >794742.870000</td>\n",
       "    </tr>\n",
       "    <tr>\n",
       "      <th id=\"T_63212_level0_row5\" class=\"row_heading level0 row5\" >total_bags</th>\n",
       "      <td id=\"T_63212_row5_col0\" class=\"data row5 col0\" >29373.000000</td>\n",
       "      <td id=\"T_63212_row5_col1\" class=\"data row5 col1\" >149335.890207</td>\n",
       "      <td id=\"T_63212_row5_col2\" class=\"data row5 col2\" >356422.175179</td>\n",
       "      <td id=\"T_63212_row5_col3\" class=\"data row5 col3\" >0.000000</td>\n",
       "      <td id=\"T_63212_row5_col4\" class=\"data row5 col4\" >7719.800000</td>\n",
       "      <td id=\"T_63212_row5_col5\" class=\"data row5 col5\" >40810.600000</td>\n",
       "      <td id=\"T_63212_row5_col6\" class=\"data row5 col6\" >131142.570000</td>\n",
       "      <td id=\"T_63212_row5_col7\" class=\"data row5 col7\" >6301211.120000</td>\n",
       "    </tr>\n",
       "    <tr>\n",
       "      <th id=\"T_63212_level0_row6\" class=\"row_heading level0 row6\" >small_bags</th>\n",
       "      <td id=\"T_63212_row6_col0\" class=\"data row6 col0\" >29373.000000</td>\n",
       "      <td id=\"T_63212_row6_col1\" class=\"data row6 col1\" >105967.502650</td>\n",
       "      <td id=\"T_63212_row6_col2\" class=\"data row6 col2\" >260109.474866</td>\n",
       "      <td id=\"T_63212_row6_col3\" class=\"data row6 col3\" >0.000000</td>\n",
       "      <td id=\"T_63212_row6_col4\" class=\"data row6 col4\" >5005.470000</td>\n",
       "      <td id=\"T_63212_row6_col5\" class=\"data row6 col5\" >26544.500000</td>\n",
       "      <td id=\"T_63212_row6_col6\" class=\"data row6 col6\" >93651.310000</td>\n",
       "      <td id=\"T_63212_row6_col7\" class=\"data row6 col7\" >4017034.510000</td>\n",
       "    </tr>\n",
       "    <tr>\n",
       "      <th id=\"T_63212_level0_row7\" class=\"row_heading level0 row7\" >large_bags</th>\n",
       "      <td id=\"T_63212_row7_col0\" class=\"data row7 col0\" >29373.000000</td>\n",
       "      <td id=\"T_63212_row7_col1\" class=\"data row7 col1\" >39157.856249</td>\n",
       "      <td id=\"T_63212_row7_col2\" class=\"data row7 col2\" >110137.208738</td>\n",
       "      <td id=\"T_63212_row7_col3\" class=\"data row7 col3\" >0.000000</td>\n",
       "      <td id=\"T_63212_row7_col4\" class=\"data row7 col4\" >277.510000</td>\n",
       "      <td id=\"T_63212_row7_col5\" class=\"data row7 col5\" >4304.080000</td>\n",
       "      <td id=\"T_63212_row7_col6\" class=\"data row7 col6\" >27688.540000</td>\n",
       "      <td id=\"T_63212_row7_col7\" class=\"data row7 col7\" >2389749.500000</td>\n",
       "    </tr>\n",
       "    <tr>\n",
       "      <th id=\"T_63212_level0_row8\" class=\"row_heading level0 row8\" >xlarge_bags</th>\n",
       "      <td id=\"T_63212_row8_col0\" class=\"data row8 col0\" >29373.000000</td>\n",
       "      <td id=\"T_63212_row8_col1\" class=\"data row8 col1\" >4210.531002</td>\n",
       "      <td id=\"T_63212_row8_col2\" class=\"data row8 col2\" >24966.658241</td>\n",
       "      <td id=\"T_63212_row8_col3\" class=\"data row8 col3\" >0.000000</td>\n",
       "      <td id=\"T_63212_row8_col4\" class=\"data row8 col4\" >0.000000</td>\n",
       "      <td id=\"T_63212_row8_col5\" class=\"data row8 col5\" >0.000000</td>\n",
       "      <td id=\"T_63212_row8_col6\" class=\"data row8 col6\" >513.330000</td>\n",
       "      <td id=\"T_63212_row8_col7\" class=\"data row8 col7\" >730833.290000</td>\n",
       "    </tr>\n",
       "    <tr>\n",
       "      <th id=\"T_63212_level0_row9\" class=\"row_heading level0 row9\" >year</th>\n",
       "      <td id=\"T_63212_row9_col0\" class=\"data row9 col0\" >29373.000000</td>\n",
       "      <td id=\"T_63212_row9_col1\" class=\"data row9 col1\" >2017.460899</td>\n",
       "      <td id=\"T_63212_row9_col2\" class=\"data row9 col2\" >1.699752</td>\n",
       "      <td id=\"T_63212_row9_col3\" class=\"data row9 col3\" >2015.000000</td>\n",
       "      <td id=\"T_63212_row9_col4\" class=\"data row9 col4\" >2016.000000</td>\n",
       "      <td id=\"T_63212_row9_col5\" class=\"data row9 col5\" >2017.000000</td>\n",
       "      <td id=\"T_63212_row9_col6\" class=\"data row9 col6\" >2019.000000</td>\n",
       "      <td id=\"T_63212_row9_col7\" class=\"data row9 col7\" >2020.000000</td>\n",
       "    </tr>\n",
       "  </tbody>\n",
       "</table>\n"
      ],
      "text/plain": [
       "<pandas.io.formats.style.Styler at 0x7bcd8d8e2510>"
      ]
     },
     "execution_count": 15,
     "metadata": {},
     "output_type": "execute_result"
    }
   ],
   "source": [
    "df.describe().T.style.background_gradient(cmap='Blues')"
   ]
  },
  {
   "cell_type": "markdown",
   "id": "77d4c63f",
   "metadata": {
    "papermill": {
     "duration": 0.011147,
     "end_time": "2023-04-08T16:11:09.415542",
     "exception": false,
     "start_time": "2023-04-08T16:11:09.404395",
     "status": "completed"
    },
    "tags": []
   },
   "source": [
    "## 4.1. Precio"
   ]
  },
  {
   "cell_type": "markdown",
   "id": "0211409d",
   "metadata": {
    "papermill": {
     "duration": 0.011181,
     "end_time": "2023-04-08T16:11:09.438238",
     "exception": false,
     "start_time": "2023-04-08T16:11:09.427057",
     "status": "completed"
    },
    "tags": []
   },
   "source": [
    "## 4.2. Volumen"
   ]
  },
  {
   "cell_type": "markdown",
   "id": "5cb045fc",
   "metadata": {
    "papermill": {
     "duration": 0.011945,
     "end_time": "2023-04-08T16:11:09.463024",
     "exception": false,
     "start_time": "2023-04-08T16:11:09.451079",
     "status": "completed"
    },
    "tags": []
   },
   "source": [
    "### 4.2.1. Por tipo"
   ]
  },
  {
   "cell_type": "code",
   "execution_count": 16,
   "id": "5e3bc1b5",
   "metadata": {
    "execution": {
     "iopub.execute_input": "2023-04-08T16:11:09.489083Z",
     "iopub.status.busy": "2023-04-08T16:11:09.488683Z",
     "iopub.status.idle": "2023-04-08T16:11:09.507769Z",
     "shell.execute_reply": "2023-04-08T16:11:09.506890Z"
    },
    "papermill": {
     "duration": 0.034319,
     "end_time": "2023-04-08T16:11:09.509502",
     "exception": false,
     "start_time": "2023-04-08T16:11:09.475183",
     "status": "completed"
    },
    "tags": []
   },
   "outputs": [
    {
     "data": {
      "text/html": [
       "<div>\n",
       "<style scoped>\n",
       "    .dataframe tbody tr th:only-of-type {\n",
       "        vertical-align: middle;\n",
       "    }\n",
       "\n",
       "    .dataframe tbody tr th {\n",
       "        vertical-align: top;\n",
       "    }\n",
       "\n",
       "    .dataframe thead th {\n",
       "        text-align: right;\n",
       "    }\n",
       "</style>\n",
       "<table border=\"1\" class=\"dataframe\">\n",
       "  <thead>\n",
       "    <tr style=\"text-align: right;\">\n",
       "      <th></th>\n",
       "      <th>average_price</th>\n",
       "      <th>total_volume</th>\n",
       "      <th>4046</th>\n",
       "      <th>4225</th>\n",
       "      <th>4770</th>\n",
       "      <th>total_bags</th>\n",
       "      <th>small_bags</th>\n",
       "      <th>large_bags</th>\n",
       "      <th>xlarge_bags</th>\n",
       "      <th>year</th>\n",
       "    </tr>\n",
       "    <tr>\n",
       "      <th>type</th>\n",
       "      <th></th>\n",
       "      <th></th>\n",
       "      <th></th>\n",
       "      <th></th>\n",
       "      <th></th>\n",
       "      <th></th>\n",
       "      <th></th>\n",
       "      <th></th>\n",
       "      <th></th>\n",
       "      <th></th>\n",
       "    </tr>\n",
       "  </thead>\n",
       "  <tbody>\n",
       "    <tr>\n",
       "      <th>conventional</th>\n",
       "      <td>1.150897</td>\n",
       "      <td>766707.582121</td>\n",
       "      <td>232406.977786</td>\n",
       "      <td>230866.550304</td>\n",
       "      <td>22405.553999</td>\n",
       "      <td>281021.940434</td>\n",
       "      <td>199138.806497</td>\n",
       "      <td>73469.230187</td>\n",
       "      <td>8413.903069</td>\n",
       "      <td>2017.460784</td>\n",
       "    </tr>\n",
       "    <tr>\n",
       "      <th>organic</th>\n",
       "      <td>1.621053</td>\n",
       "      <td>27199.007169</td>\n",
       "      <td>2927.085596</td>\n",
       "      <td>6467.018108</td>\n",
       "      <td>80.986968</td>\n",
       "      <td>17622.937825</td>\n",
       "      <td>12777.164829</td>\n",
       "      <td>4839.472838</td>\n",
       "      <td>6.300227</td>\n",
       "      <td>2017.461015</td>\n",
       "    </tr>\n",
       "  </tbody>\n",
       "</table>\n",
       "</div>"
      ],
      "text/plain": [
       "              average_price   total_volume           4046           4225  \\\n",
       "type                                                                       \n",
       "conventional       1.150897  766707.582121  232406.977786  230866.550304   \n",
       "organic            1.621053   27199.007169    2927.085596    6467.018108   \n",
       "\n",
       "                      4770     total_bags     small_bags    large_bags  \\\n",
       "type                                                                     \n",
       "conventional  22405.553999  281021.940434  199138.806497  73469.230187   \n",
       "organic          80.986968   17622.937825   12777.164829   4839.472838   \n",
       "\n",
       "              xlarge_bags         year  \n",
       "type                                    \n",
       "conventional  8413.903069  2017.460784  \n",
       "organic          6.300227  2017.461015  "
      ]
     },
     "execution_count": 16,
     "metadata": {},
     "output_type": "execute_result"
    }
   ],
   "source": [
    "df.groupby('type').mean()"
   ]
  },
  {
   "cell_type": "code",
   "execution_count": 17,
   "id": "cdb00ddb",
   "metadata": {
    "_kg_hide-input": true,
    "execution": {
     "iopub.execute_input": "2023-04-08T16:11:09.535332Z",
     "iopub.status.busy": "2023-04-08T16:11:09.534783Z",
     "iopub.status.idle": "2023-04-08T16:11:09.726060Z",
     "shell.execute_reply": "2023-04-08T16:11:09.725265Z"
    },
    "jupyter": {
     "source_hidden": true
    },
    "papermill": {
     "duration": 0.206698,
     "end_time": "2023-04-08T16:11:09.728261",
     "exception": false,
     "start_time": "2023-04-08T16:11:09.521563",
     "status": "completed"
    },
    "tags": []
   },
   "outputs": [
    {
     "data": {
      "image/png": "[encoded data removed]",
      "text/plain": [
       "<Figure size 300x400 with 1 Axes>"
      ]
     },
     "metadata": {},
     "output_type": "display_data"
    }
   ],
   "source": [
    "fig, ax = plt.subplots(figsize=(3, 4))\n",
    "fig.suptitle('Volumen promedio por tipo')\n",
    "\n",
    "sns.barplot(data=df, x='type', y='total_volume', ax=ax, estimator='mean', errorbar=None)\n",
    "ax.set_xlabel('Tipo de aguacate')\n",
    "ax.set_ylabel('Volumen')\n",
    "\n",
    "plt.tight_layout()"
   ]
  },
  {
   "cell_type": "markdown",
   "id": "debef93c",
   "metadata": {
    "papermill": {
     "duration": 0.014383,
     "end_time": "2023-04-08T16:11:09.756160",
     "exception": false,
     "start_time": "2023-04-08T16:11:09.741777",
     "status": "completed"
    },
    "tags": []
   },
   "source": [
    "### 4.2.2. Tendencias de volumen por año"
   ]
  },
  {
   "cell_type": "code",
   "execution_count": 18,
   "id": "a547f0ee",
   "metadata": {
    "execution": {
     "iopub.execute_input": "2023-04-08T16:11:09.781768Z",
     "iopub.status.busy": "2023-04-08T16:11:09.781372Z",
     "iopub.status.idle": "2023-04-08T16:11:09.799293Z",
     "shell.execute_reply": "2023-04-08T16:11:09.798393Z"
    },
    "papermill": {
     "duration": 0.033335,
     "end_time": "2023-04-08T16:11:09.801346",
     "exception": false,
     "start_time": "2023-04-08T16:11:09.768011",
     "status": "completed"
    },
    "tags": []
   },
   "outputs": [
    {
     "data": {
      "text/html": [
       "<div>\n",
       "<style scoped>\n",
       "    .dataframe tbody tr th:only-of-type {\n",
       "        vertical-align: middle;\n",
       "    }\n",
       "\n",
       "    .dataframe tbody tr th {\n",
       "        vertical-align: top;\n",
       "    }\n",
       "\n",
       "    .dataframe thead th {\n",
       "        text-align: right;\n",
       "    }\n",
       "</style>\n",
       "<table border=\"1\" class=\"dataframe\">\n",
       "  <thead>\n",
       "    <tr style=\"text-align: right;\">\n",
       "      <th></th>\n",
       "      <th>average_price</th>\n",
       "      <th>total_volume</th>\n",
       "      <th>4046</th>\n",
       "      <th>4225</th>\n",
       "      <th>4770</th>\n",
       "      <th>total_bags</th>\n",
       "      <th>small_bags</th>\n",
       "      <th>large_bags</th>\n",
       "      <th>xlarge_bags</th>\n",
       "    </tr>\n",
       "    <tr>\n",
       "      <th>year</th>\n",
       "      <th></th>\n",
       "      <th></th>\n",
       "      <th></th>\n",
       "      <th></th>\n",
       "      <th></th>\n",
       "      <th></th>\n",
       "      <th></th>\n",
       "      <th></th>\n",
       "      <th></th>\n",
       "    </tr>\n",
       "  </thead>\n",
       "  <tbody>\n",
       "    <tr>\n",
       "      <th>2015</th>\n",
       "      <td>1.382603</td>\n",
       "      <td>326466.122184</td>\n",
       "      <td>124476.531813</td>\n",
       "      <td>133462.363887</td>\n",
       "      <td>12867.007804</td>\n",
       "      <td>55660.218680</td>\n",
       "      <td>46859.250567</td>\n",
       "      <td>8195.660242</td>\n",
       "      <td>605.307870</td>\n",
       "    </tr>\n",
       "    <tr>\n",
       "      <th>2016</th>\n",
       "      <td>1.345453</td>\n",
       "      <td>356919.401719</td>\n",
       "      <td>104696.221182</td>\n",
       "      <td>129227.699665</td>\n",
       "      <td>13488.590913</td>\n",
       "      <td>109506.889958</td>\n",
       "      <td>85762.792804</td>\n",
       "      <td>21950.219573</td>\n",
       "      <td>1793.877580</td>\n",
       "    </tr>\n",
       "    <tr>\n",
       "      <th>2017</th>\n",
       "      <td>1.522934</td>\n",
       "      <td>356310.853287</td>\n",
       "      <td>112340.189855</td>\n",
       "      <td>116762.158889</td>\n",
       "      <td>8909.697513</td>\n",
       "      <td>118295.819917</td>\n",
       "      <td>91059.414129</td>\n",
       "      <td>25036.090855</td>\n",
       "      <td>2200.313164</td>\n",
       "    </tr>\n",
       "    <tr>\n",
       "      <th>2018</th>\n",
       "      <td>1.359938</td>\n",
       "      <td>422946.098070</td>\n",
       "      <td>124876.341567</td>\n",
       "      <td>129743.538512</td>\n",
       "      <td>10867.766981</td>\n",
       "      <td>157147.813000</td>\n",
       "      <td>120620.185247</td>\n",
       "      <td>33357.937753</td>\n",
       "      <td>3169.690000</td>\n",
       "    </tr>\n",
       "    <tr>\n",
       "      <th>2019</th>\n",
       "      <td>1.405994</td>\n",
       "      <td>420272.628974</td>\n",
       "      <td>108831.967594</td>\n",
       "      <td>109811.523860</td>\n",
       "      <td>11180.505869</td>\n",
       "      <td>190447.165491</td>\n",
       "      <td>126202.336496</td>\n",
       "      <td>57878.460228</td>\n",
       "      <td>6366.367764</td>\n",
       "    </tr>\n",
       "    <tr>\n",
       "      <th>2020</th>\n",
       "      <td>1.287101</td>\n",
       "      <td>509971.334266</td>\n",
       "      <td>132509.187656</td>\n",
       "      <td>91661.381189</td>\n",
       "      <td>10086.372882</td>\n",
       "      <td>275693.674996</td>\n",
       "      <td>171452.577828</td>\n",
       "      <td>92561.871634</td>\n",
       "      <td>11679.226619</td>\n",
       "    </tr>\n",
       "  </tbody>\n",
       "</table>\n",
       "</div>"
      ],
      "text/plain": [
       "      average_price   total_volume           4046           4225  \\\n",
       "year                                                               \n",
       "2015       1.382603  326466.122184  124476.531813  133462.363887   \n",
       "2016       1.345453  356919.401719  104696.221182  129227.699665   \n",
       "2017       1.522934  356310.853287  112340.189855  116762.158889   \n",
       "2018       1.359938  422946.098070  124876.341567  129743.538512   \n",
       "2019       1.405994  420272.628974  108831.967594  109811.523860   \n",
       "2020       1.287101  509971.334266  132509.187656   91661.381189   \n",
       "\n",
       "              4770     total_bags     small_bags    large_bags   xlarge_bags  \n",
       "year                                                                          \n",
       "2015  12867.007804   55660.218680   46859.250567   8195.660242    605.307870  \n",
       "2016  13488.590913  109506.889958   85762.792804  21950.219573   1793.877580  \n",
       "2017   8909.697513  118295.819917   91059.414129  25036.090855   2200.313164  \n",
       "2018  10867.766981  157147.813000  120620.185247  33357.937753   3169.690000  \n",
       "2019  11180.505869  190447.165491  126202.336496  57878.460228   6366.367764  \n",
       "2020  10086.372882  275693.674996  171452.577828  92561.871634  11679.226619  "
      ]
     },
     "execution_count": 18,
     "metadata": {},
     "output_type": "execute_result"
    }
   ],
   "source": [
    "df.groupby('year').mean()"
   ]
  },
  {
   "cell_type": "markdown",
   "id": "9da2ef1d",
   "metadata": {
    "papermill": {
     "duration": 0.01238,
     "end_time": "2023-04-08T16:11:09.826754",
     "exception": false,
     "start_time": "2023-04-08T16:11:09.814374",
     "status": "completed"
    },
    "tags": []
   },
   "source": [
    "#### Tendencia del volumen promedio por año"
   ]
  },
  {
   "cell_type": "code",
   "execution_count": 19,
   "id": "0b081af3",
   "metadata": {
    "_kg_hide-input": true,
    "execution": {
     "iopub.execute_input": "2023-04-08T16:11:09.853530Z",
     "iopub.status.busy": "2023-04-08T16:11:09.853146Z",
     "iopub.status.idle": "2023-04-08T16:11:10.033902Z",
     "shell.execute_reply": "2023-04-08T16:11:10.033143Z"
    },
    "jupyter": {
     "source_hidden": true
    },
    "papermill": {
     "duration": 0.196685,
     "end_time": "2023-04-08T16:11:10.035912",
     "exception": false,
     "start_time": "2023-04-08T16:11:09.839227",
     "status": "completed"
    },
    "tags": []
   },
   "outputs": [
    {
     "data": {
      "image/png": "[encoded data removed]",
      "text/plain": [
       "<Figure size 600x400 with 1 Axes>"
      ]
     },
     "metadata": {},
     "output_type": "display_data"
    }
   ],
   "source": [
    "fig, ax = plt.subplots(figsize=(6, 4))\n",
    "fig.suptitle('Volumen promedio por año')\n",
    "\n",
    "sns.pointplot(data=df, x='year', y='total_volume', ax=ax, estimator='mean', errorbar=None)\n",
    "ax.set_xlabel('Año')\n",
    "ax.set_ylabel('Volumen')\n",
    "\n",
    "\n",
    "plt.tight_layout()"
   ]
  },
  {
   "cell_type": "markdown",
   "id": "e9073d4b",
   "metadata": {
    "papermill": {
     "duration": 0.012576,
     "end_time": "2023-04-08T16:11:10.061544",
     "exception": false,
     "start_time": "2023-04-08T16:11:10.048968",
     "status": "completed"
    },
    "tags": []
   },
   "source": [
    "#### Tendencia del volumen promedio por código de tamaño"
   ]
  },
  {
   "cell_type": "code",
   "execution_count": 20,
   "id": "62bd736e",
   "metadata": {
    "_kg_hide-input": true,
    "execution": {
     "iopub.execute_input": "2023-04-08T16:11:10.089329Z",
     "iopub.status.busy": "2023-04-08T16:11:10.088304Z",
     "iopub.status.idle": "2023-04-08T16:11:10.311719Z",
     "shell.execute_reply": "2023-04-08T16:11:10.310828Z"
    },
    "jupyter": {
     "source_hidden": true
    },
    "papermill": {
     "duration": 0.239548,
     "end_time": "2023-04-08T16:11:10.313794",
     "exception": false,
     "start_time": "2023-04-08T16:11:10.074246",
     "status": "completed"
    },
    "tags": []
   },
   "outputs": [
    {
     "data": {
      "image/png": "[encoded data removed]",
      "text/plain": [
       "<Figure size 600x400 with 1 Axes>"
      ]
     },
     "metadata": {},
     "output_type": "display_data"
    }
   ],
   "source": [
    "fig, ax = plt.subplots(figsize=(6, 4))\n",
    "fig.suptitle('Tendencia del volumen promedio por código de tamaño')\n",
    "\n",
    "sns.pointplot(data=df, x='year', y='4046', ax=ax, estimator='mean', errorbar=None, color='green', label='4046 Mediano')\n",
    "sns.pointplot(data=df, x='year', y='4225', ax=ax, estimator='mean', errorbar=None, color='blue', label='4225 Grande')\n",
    "sns.pointplot(data=df, x='year', y='4770', ax=ax, estimator='mean', errorbar=None, color='gray', label='4770 Extra grande')\n",
    "ax.set_xlabel('Año')\n",
    "ax.set_ylabel('Volumen')\n",
    "ax.legend()\n",
    "\n",
    "plt.tight_layout()\n"
   ]
  },
  {
   "cell_type": "markdown",
   "id": "a8f55d1a",
   "metadata": {
    "papermill": {
     "duration": 0.013139,
     "end_time": "2023-04-08T16:11:10.340771",
     "exception": false,
     "start_time": "2023-04-08T16:11:10.327632",
     "status": "completed"
    },
    "tags": []
   },
   "source": [
    "#### Tendencia del volumen promedio por tipo de bolsa"
   ]
  },
  {
   "cell_type": "code",
   "execution_count": 21,
   "id": "6c840ff5",
   "metadata": {
    "_kg_hide-input": true,
    "execution": {
     "iopub.execute_input": "2023-04-08T16:11:10.370325Z",
     "iopub.status.busy": "2023-04-08T16:11:10.369965Z",
     "iopub.status.idle": "2023-04-08T16:11:10.604644Z",
     "shell.execute_reply": "2023-04-08T16:11:10.603216Z"
    },
    "jupyter": {
     "source_hidden": true
    },
    "papermill": {
     "duration": 0.252066,
     "end_time": "2023-04-08T16:11:10.606676",
     "exception": false,
     "start_time": "2023-04-08T16:11:10.354610",
     "status": "completed"
    },
    "tags": []
   },
   "outputs": [
    {
     "data": {
      "image/png": "[encoded data removed]",
      "text/plain": [
       "<Figure size 600x400 with 1 Axes>"
      ]
     },
     "metadata": {},
     "output_type": "display_data"
    }
   ],
   "source": [
    "fig, ax = plt.subplots(figsize=(6, 4))\n",
    "fig.suptitle('Tendencia del volumen promedio por tipo de bolsa')\n",
    "\n",
    "sns.pointplot(data=df, x='year', y='small_bags', ax=ax, estimator='mean', errorbar=None, color='green', label='Bolsa pequeña')\n",
    "sns.pointplot(data=df, x='year', y='large_bags', ax=ax, estimator='mean', errorbar=None, color='blue', label='Bolsa grande')\n",
    "sns.pointplot(data=df, x='year', y='xlarge_bags', ax=ax, estimator='mean', errorbar=None, color='gray', label='Bolsa Extra grande')\n",
    "ax.set_xlabel('Año')\n",
    "ax.set_ylabel('Volumen')\n",
    "ax.legend()\n",
    "\n",
    "plt.tight_layout()\n"
   ]
  },
  {
   "cell_type": "markdown",
   "id": "10142799",
   "metadata": {
    "papermill": {
     "duration": 0.01348,
     "end_time": "2023-04-08T16:11:10.634376",
     "exception": false,
     "start_time": "2023-04-08T16:11:10.620896",
     "status": "completed"
    },
    "tags": []
   },
   "source": [
    "#### Tendencia del volumen promedio por tipo de aguacate"
   ]
  },
  {
   "cell_type": "code",
   "execution_count": 22,
   "id": "b57352da",
   "metadata": {
    "execution": {
     "iopub.execute_input": "2023-04-08T16:11:10.664342Z",
     "iopub.status.busy": "2023-04-08T16:11:10.663169Z",
     "iopub.status.idle": "2023-04-08T16:11:10.688711Z",
     "shell.execute_reply": "2023-04-08T16:11:10.687980Z"
    },
    "papermill": {
     "duration": 0.042258,
     "end_time": "2023-04-08T16:11:10.690405",
     "exception": false,
     "start_time": "2023-04-08T16:11:10.648147",
     "status": "completed"
    },
    "tags": []
   },
   "outputs": [
    {
     "data": {
      "text/html": [
       "<div>\n",
       "<style scoped>\n",
       "    .dataframe tbody tr th:only-of-type {\n",
       "        vertical-align: middle;\n",
       "    }\n",
       "\n",
       "    .dataframe tbody tr th {\n",
       "        vertical-align: top;\n",
       "    }\n",
       "\n",
       "    .dataframe thead th {\n",
       "        text-align: right;\n",
       "    }\n",
       "</style>\n",
       "<table border=\"1\" class=\"dataframe\">\n",
       "  <thead>\n",
       "    <tr style=\"text-align: right;\">\n",
       "      <th></th>\n",
       "      <th></th>\n",
       "      <th>average_price</th>\n",
       "      <th>total_volume</th>\n",
       "      <th>4046</th>\n",
       "      <th>4225</th>\n",
       "      <th>4770</th>\n",
       "      <th>total_bags</th>\n",
       "      <th>small_bags</th>\n",
       "      <th>large_bags</th>\n",
       "      <th>xlarge_bags</th>\n",
       "    </tr>\n",
       "    <tr>\n",
       "      <th>type</th>\n",
       "      <th>year</th>\n",
       "      <th></th>\n",
       "      <th></th>\n",
       "      <th></th>\n",
       "      <th></th>\n",
       "      <th></th>\n",
       "      <th></th>\n",
       "      <th></th>\n",
       "      <th></th>\n",
       "      <th></th>\n",
       "    </tr>\n",
       "  </thead>\n",
       "  <tbody>\n",
       "    <tr>\n",
       "      <th rowspan=\"6\" valign=\"top\">conventional</th>\n",
       "      <th>2015</th>\n",
       "      <td>1.083890</td>\n",
       "      <td>639386.462696</td>\n",
       "      <td>245142.825713</td>\n",
       "      <td>260364.594107</td>\n",
       "      <td>25631.169395</td>\n",
       "      <td>108247.873482</td>\n",
       "      <td>91732.780513</td>\n",
       "      <td>15304.719740</td>\n",
       "      <td>1210.373229</td>\n",
       "    </tr>\n",
       "    <tr>\n",
       "      <th>2016</th>\n",
       "      <td>1.110517</td>\n",
       "      <td>693652.535008</td>\n",
       "      <td>206955.042412</td>\n",
       "      <td>250170.173429</td>\n",
       "      <td>26812.524716</td>\n",
       "      <td>209714.794451</td>\n",
       "      <td>165503.829347</td>\n",
       "      <td>40623.209944</td>\n",
       "      <td>3587.755160</td>\n",
       "    </tr>\n",
       "    <tr>\n",
       "      <th>2017</th>\n",
       "      <td>1.301836</td>\n",
       "      <td>687591.359379</td>\n",
       "      <td>222021.851478</td>\n",
       "      <td>225900.855385</td>\n",
       "      <td>17757.052571</td>\n",
       "      <td>221911.600731</td>\n",
       "      <td>171433.121761</td>\n",
       "      <td>46080.217693</td>\n",
       "      <td>4398.257740</td>\n",
       "    </tr>\n",
       "    <tr>\n",
       "      <th>2018</th>\n",
       "      <td>1.147929</td>\n",
       "      <td>813587.695327</td>\n",
       "      <td>246607.649877</td>\n",
       "      <td>251839.916182</td>\n",
       "      <td>21707.526046</td>\n",
       "      <td>293432.603223</td>\n",
       "      <td>224153.513359</td>\n",
       "      <td>62941.653112</td>\n",
       "      <td>6337.436752</td>\n",
       "    </tr>\n",
       "    <tr>\n",
       "      <th>2019</th>\n",
       "      <td>1.193702</td>\n",
       "      <td>809403.764587</td>\n",
       "      <td>214643.497003</td>\n",
       "      <td>214627.280072</td>\n",
       "      <td>22299.319912</td>\n",
       "      <td>357832.743413</td>\n",
       "      <td>233153.507364</td>\n",
       "      <td>111948.359808</td>\n",
       "      <td>12730.873438</td>\n",
       "    </tr>\n",
       "    <tr>\n",
       "      <th>2020</th>\n",
       "      <td>1.057227</td>\n",
       "      <td>977028.278581</td>\n",
       "      <td>262396.900907</td>\n",
       "      <td>179663.264358</td>\n",
       "      <td>20097.296502</td>\n",
       "      <td>514829.999714</td>\n",
       "      <td>320139.814262</td>\n",
       "      <td>171367.184240</td>\n",
       "      <td>23323.003815</td>\n",
       "    </tr>\n",
       "    <tr>\n",
       "      <th rowspan=\"6\" valign=\"top\">organic</th>\n",
       "      <th>2015</th>\n",
       "      <td>1.681435</td>\n",
       "      <td>13420.362697</td>\n",
       "      <td>3761.874669</td>\n",
       "      <td>6509.271050</td>\n",
       "      <td>97.730317</td>\n",
       "      <td>3051.486661</td>\n",
       "      <td>1967.735238</td>\n",
       "      <td>1083.751423</td>\n",
       "      <td>0.000000</td>\n",
       "    </tr>\n",
       "    <tr>\n",
       "      <th>2016</th>\n",
       "      <td>1.580389</td>\n",
       "      <td>20186.268429</td>\n",
       "      <td>2437.399952</td>\n",
       "      <td>8285.225901</td>\n",
       "      <td>164.657111</td>\n",
       "      <td>9298.985465</td>\n",
       "      <td>6021.756262</td>\n",
       "      <td>3277.229203</td>\n",
       "      <td>0.000000</td>\n",
       "    </tr>\n",
       "    <tr>\n",
       "      <th>2017</th>\n",
       "      <td>1.744205</td>\n",
       "      <td>24769.701637</td>\n",
       "      <td>2572.232667</td>\n",
       "      <td>7537.594024</td>\n",
       "      <td>55.381515</td>\n",
       "      <td>14598.516066</td>\n",
       "      <td>10622.469906</td>\n",
       "      <td>3975.406876</td>\n",
       "      <td>0.639284</td>\n",
       "    </tr>\n",
       "    <tr>\n",
       "      <th>2018</th>\n",
       "      <td>1.571947</td>\n",
       "      <td>32304.500812</td>\n",
       "      <td>3145.033257</td>\n",
       "      <td>7647.160842</td>\n",
       "      <td>28.007917</td>\n",
       "      <td>20863.022776</td>\n",
       "      <td>17086.857134</td>\n",
       "      <td>3774.222394</td>\n",
       "      <td>1.943248</td>\n",
       "    </tr>\n",
       "    <tr>\n",
       "      <th>2019</th>\n",
       "      <td>1.618285</td>\n",
       "      <td>31141.493361</td>\n",
       "      <td>3020.438185</td>\n",
       "      <td>4995.767648</td>\n",
       "      <td>61.691827</td>\n",
       "      <td>23061.587568</td>\n",
       "      <td>19251.165629</td>\n",
       "      <td>3808.560649</td>\n",
       "      <td>1.862091</td>\n",
       "    </tr>\n",
       "    <tr>\n",
       "      <th>2020</th>\n",
       "      <td>1.516975</td>\n",
       "      <td>42914.389952</td>\n",
       "      <td>2621.474405</td>\n",
       "      <td>3659.498021</td>\n",
       "      <td>75.449262</td>\n",
       "      <td>36557.350278</td>\n",
       "      <td>22765.341393</td>\n",
       "      <td>13756.559028</td>\n",
       "      <td>35.449423</td>\n",
       "    </tr>\n",
       "  </tbody>\n",
       "</table>\n",
       "</div>"
      ],
      "text/plain": [
       "                   average_price   total_volume           4046           4225  \\\n",
       "type         year                                                               \n",
       "conventional 2015       1.083890  639386.462696  245142.825713  260364.594107   \n",
       "             2016       1.110517  693652.535008  206955.042412  250170.173429   \n",
       "             2017       1.301836  687591.359379  222021.851478  225900.855385   \n",
       "             2018       1.147929  813587.695327  246607.649877  251839.916182   \n",
       "             2019       1.193702  809403.764587  214643.497003  214627.280072   \n",
       "             2020       1.057227  977028.278581  262396.900907  179663.264358   \n",
       "organic      2015       1.681435   13420.362697    3761.874669    6509.271050   \n",
       "             2016       1.580389   20186.268429    2437.399952    8285.225901   \n",
       "             2017       1.744205   24769.701637    2572.232667    7537.594024   \n",
       "             2018       1.571947   32304.500812    3145.033257    7647.160842   \n",
       "             2019       1.618285   31141.493361    3020.438185    4995.767648   \n",
       "             2020       1.516975   42914.389952    2621.474405    3659.498021   \n",
       "\n",
       "                           4770     total_bags     small_bags     large_bags  \\\n",
       "type         year                                                              \n",
       "conventional 2015  25631.169395  108247.873482   91732.780513   15304.719740   \n",
       "             2016  26812.524716  209714.794451  165503.829347   40623.209944   \n",
       "             2017  17757.052571  221911.600731  171433.121761   46080.217693   \n",
       "             2018  21707.526046  293432.603223  224153.513359   62941.653112   \n",
       "             2019  22299.319912  357832.743413  233153.507364  111948.359808   \n",
       "             2020  20097.296502  514829.999714  320139.814262  171367.184240   \n",
       "organic      2015     97.730317    3051.486661    1967.735238    1083.751423   \n",
       "             2016    164.657111    9298.985465    6021.756262    3277.229203   \n",
       "             2017     55.381515   14598.516066   10622.469906    3975.406876   \n",
       "             2018     28.007917   20863.022776   17086.857134    3774.222394   \n",
       "             2019     61.691827   23061.587568   19251.165629    3808.560649   \n",
       "             2020     75.449262   36557.350278   22765.341393   13756.559028   \n",
       "\n",
       "                    xlarge_bags  \n",
       "type         year                \n",
       "conventional 2015   1210.373229  \n",
       "             2016   3587.755160  \n",
       "             2017   4398.257740  \n",
       "             2018   6337.436752  \n",
       "             2019  12730.873438  \n",
       "             2020  23323.003815  \n",
       "organic      2015      0.000000  \n",
       "             2016      0.000000  \n",
       "             2017      0.639284  \n",
       "             2018      1.943248  \n",
       "             2019      1.862091  \n",
       "             2020     35.449423  "
      ]
     },
     "execution_count": 22,
     "metadata": {},
     "output_type": "execute_result"
    }
   ],
   "source": [
    "df.groupby(['type', 'year']).mean()"
   ]
  },
  {
   "cell_type": "code",
   "execution_count": 23,
   "id": "7b488ce7",
   "metadata": {
    "_kg_hide-input": true,
    "execution": {
     "iopub.execute_input": "2023-04-08T16:11:10.721454Z",
     "iopub.status.busy": "2023-04-08T16:11:10.721075Z",
     "iopub.status.idle": "2023-04-08T16:11:11.492180Z",
     "shell.execute_reply": "2023-04-08T16:11:11.491478Z"
    },
    "jupyter": {
     "source_hidden": true
    },
    "papermill": {
     "duration": 0.789542,
     "end_time": "2023-04-08T16:11:11.494505",
     "exception": false,
     "start_time": "2023-04-08T16:11:10.704963",
     "status": "completed"
    },
    "tags": []
   },
   "outputs": [
    {
     "data": {
      "image/png": "[encoded data removed]",
      "text/plain": [
       "<Figure size 600x400 with 1 Axes>"
      ]
     },
     "metadata": {},
     "output_type": "display_data"
    }
   ],
   "source": [
    "fig, ax = plt.subplots(figsize=(6, 4))\n",
    "fig.suptitle('Tendencia del volumen promedio por tipo de aguacate')\n",
    "\n",
    "sns.lineplot(data=df, x='year', y='average_price', ax=ax, hue='type')\n",
    "ax.set_xlabel('Año')\n",
    "ax.set_ylabel('Volumen')\n",
    "\n",
    "plt.tight_layout()"
   ]
  },
  {
   "cell_type": "markdown",
   "id": "0a0c65b8",
   "metadata": {
    "papermill": {
     "duration": 0.014667,
     "end_time": "2023-04-08T16:11:11.524228",
     "exception": false,
     "start_time": "2023-04-08T16:11:11.509561",
     "status": "completed"
    },
    "tags": []
   },
   "source": [
    "## 4.3. región"
   ]
  },
  {
   "cell_type": "markdown",
   "id": "38443329",
   "metadata": {
    "papermill": {
     "duration": 0.014563,
     "end_time": "2023-04-08T16:11:11.553523",
     "exception": false,
     "start_time": "2023-04-08T16:11:11.538960",
     "status": "completed"
    },
    "tags": []
   },
   "source": [
    "# 5. Análisis Multivariado"
   ]
  },
  {
   "cell_type": "markdown",
   "id": "b5b22f6a",
   "metadata": {
    "papermill": {
     "duration": 0.014448,
     "end_time": "2023-04-08T16:11:11.582592",
     "exception": false,
     "start_time": "2023-04-08T16:11:11.568144",
     "status": "completed"
    },
    "tags": []
   },
   "source": [
    "## 5.5. Correlación"
   ]
  },
  {
   "cell_type": "code",
   "execution_count": 24,
   "id": "ad0f1655",
   "metadata": {
    "execution": {
     "iopub.execute_input": "2023-04-08T16:11:11.614118Z",
     "iopub.status.busy": "2023-04-08T16:11:11.613506Z",
     "iopub.status.idle": "2023-04-08T16:11:11.634214Z",
     "shell.execute_reply": "2023-04-08T16:11:11.633514Z"
    },
    "papermill": {
     "duration": 0.038563,
     "end_time": "2023-04-08T16:11:11.635951",
     "exception": false,
     "start_time": "2023-04-08T16:11:11.597388",
     "status": "completed"
    },
    "tags": []
   },
   "outputs": [
    {
     "data": {
      "text/html": [
       "<div>\n",
       "<style scoped>\n",
       "    .dataframe tbody tr th:only-of-type {\n",
       "        vertical-align: middle;\n",
       "    }\n",
       "\n",
       "    .dataframe tbody tr th {\n",
       "        vertical-align: top;\n",
       "    }\n",
       "\n",
       "    .dataframe thead th {\n",
       "        text-align: right;\n",
       "    }\n",
       "</style>\n",
       "<table border=\"1\" class=\"dataframe\">\n",
       "  <thead>\n",
       "    <tr style=\"text-align: right;\">\n",
       "      <th></th>\n",
       "      <th>average_price</th>\n",
       "      <th>total_volume</th>\n",
       "      <th>4046</th>\n",
       "      <th>4225</th>\n",
       "      <th>4770</th>\n",
       "      <th>total_bags</th>\n",
       "      <th>small_bags</th>\n",
       "      <th>large_bags</th>\n",
       "      <th>xlarge_bags</th>\n",
       "      <th>year</th>\n",
       "    </tr>\n",
       "  </thead>\n",
       "  <tbody>\n",
       "    <tr>\n",
       "      <th>average_price</th>\n",
       "      <td>1.000000</td>\n",
       "      <td>-0.316184</td>\n",
       "      <td>-0.334868</td>\n",
       "      <td>-0.231258</td>\n",
       "      <td>-0.180824</td>\n",
       "      <td>-0.284260</td>\n",
       "      <td>-0.270727</td>\n",
       "      <td>-0.257509</td>\n",
       "      <td>-0.101595</td>\n",
       "      <td>-0.054910</td>\n",
       "    </tr>\n",
       "    <tr>\n",
       "      <th>total_volume</th>\n",
       "      <td>-0.316184</td>\n",
       "      <td>1.000000</td>\n",
       "      <td>0.905531</td>\n",
       "      <td>0.856121</td>\n",
       "      <td>0.727402</td>\n",
       "      <td>0.913145</td>\n",
       "      <td>0.928615</td>\n",
       "      <td>0.620052</td>\n",
       "      <td>0.626145</td>\n",
       "      <td>0.064542</td>\n",
       "    </tr>\n",
       "    <tr>\n",
       "      <th>4046</th>\n",
       "      <td>-0.334868</td>\n",
       "      <td>0.905531</td>\n",
       "      <td>1.000000</td>\n",
       "      <td>0.680491</td>\n",
       "      <td>0.556181</td>\n",
       "      <td>0.760412</td>\n",
       "      <td>0.792614</td>\n",
       "      <td>0.474906</td>\n",
       "      <td>0.502926</td>\n",
       "      <td>0.009684</td>\n",
       "    </tr>\n",
       "    <tr>\n",
       "      <th>4225</th>\n",
       "      <td>-0.231258</td>\n",
       "      <td>0.856121</td>\n",
       "      <td>0.680491</td>\n",
       "      <td>1.000000</td>\n",
       "      <td>0.669106</td>\n",
       "      <td>0.645094</td>\n",
       "      <td>0.704732</td>\n",
       "      <td>0.343066</td>\n",
       "      <td>0.353837</td>\n",
       "      <td>-0.043145</td>\n",
       "    </tr>\n",
       "    <tr>\n",
       "      <th>4770</th>\n",
       "      <td>-0.180824</td>\n",
       "      <td>0.727402</td>\n",
       "      <td>0.556181</td>\n",
       "      <td>0.669106</td>\n",
       "      <td>1.000000</td>\n",
       "      <td>0.658779</td>\n",
       "      <td>0.667345</td>\n",
       "      <td>0.435156</td>\n",
       "      <td>0.532467</td>\n",
       "      <td>-0.021511</td>\n",
       "    </tr>\n",
       "    <tr>\n",
       "      <th>total_bags</th>\n",
       "      <td>-0.284260</td>\n",
       "      <td>0.913145</td>\n",
       "      <td>0.760412</td>\n",
       "      <td>0.645094</td>\n",
       "      <td>0.658779</td>\n",
       "      <td>1.000000</td>\n",
       "      <td>0.962001</td>\n",
       "      <td>0.791435</td>\n",
       "      <td>0.762225</td>\n",
       "      <td>0.187018</td>\n",
       "    </tr>\n",
       "    <tr>\n",
       "      <th>small_bags</th>\n",
       "      <td>-0.270727</td>\n",
       "      <td>0.928615</td>\n",
       "      <td>0.792614</td>\n",
       "      <td>0.704732</td>\n",
       "      <td>0.667345</td>\n",
       "      <td>0.962001</td>\n",
       "      <td>1.000000</td>\n",
       "      <td>0.598780</td>\n",
       "      <td>0.673737</td>\n",
       "      <td>0.143778</td>\n",
       "    </tr>\n",
       "    <tr>\n",
       "      <th>large_bags</th>\n",
       "      <td>-0.257509</td>\n",
       "      <td>0.620052</td>\n",
       "      <td>0.474906</td>\n",
       "      <td>0.343066</td>\n",
       "      <td>0.435156</td>\n",
       "      <td>0.791435</td>\n",
       "      <td>0.598780</td>\n",
       "      <td>1.000000</td>\n",
       "      <td>0.648844</td>\n",
       "      <td>0.235122</td>\n",
       "    </tr>\n",
       "    <tr>\n",
       "      <th>xlarge_bags</th>\n",
       "      <td>-0.101595</td>\n",
       "      <td>0.626145</td>\n",
       "      <td>0.502926</td>\n",
       "      <td>0.353837</td>\n",
       "      <td>0.532467</td>\n",
       "      <td>0.762225</td>\n",
       "      <td>0.673737</td>\n",
       "      <td>0.648844</td>\n",
       "      <td>1.000000</td>\n",
       "      <td>0.134722</td>\n",
       "    </tr>\n",
       "    <tr>\n",
       "      <th>year</th>\n",
       "      <td>-0.054910</td>\n",
       "      <td>0.064542</td>\n",
       "      <td>0.009684</td>\n",
       "      <td>-0.043145</td>\n",
       "      <td>-0.021511</td>\n",
       "      <td>0.187018</td>\n",
       "      <td>0.143778</td>\n",
       "      <td>0.235122</td>\n",
       "      <td>0.134722</td>\n",
       "      <td>1.000000</td>\n",
       "    </tr>\n",
       "  </tbody>\n",
       "</table>\n",
       "</div>"
      ],
      "text/plain": [
       "               average_price  total_volume      4046      4225      4770  \\\n",
       "average_price       1.000000     -0.316184 -0.334868 -0.231258 -0.180824   \n",
       "total_volume       -0.316184      1.000000  0.905531  0.856121  0.727402   \n",
       "4046               -0.334868      0.905531  1.000000  0.680491  0.556181   \n",
       "4225               -0.231258      0.856121  0.680491  1.000000  0.669106   \n",
       "4770               -0.180824      0.727402  0.556181  0.669106  1.000000   \n",
       "total_bags         -0.284260      0.913145  0.760412  0.645094  0.658779   \n",
       "small_bags         -0.270727      0.928615  0.792614  0.704732  0.667345   \n",
       "large_bags         -0.257509      0.620052  0.474906  0.343066  0.435156   \n",
       "xlarge_bags        -0.101595      0.626145  0.502926  0.353837  0.532467   \n",
       "year               -0.054910      0.064542  0.009684 -0.043145 -0.021511   \n",
       "\n",
       "               total_bags  small_bags  large_bags  xlarge_bags      year  \n",
       "average_price   -0.284260   -0.270727   -0.257509    -0.101595 -0.054910  \n",
       "total_volume     0.913145    0.928615    0.620052     0.626145  0.064542  \n",
       "4046             0.760412    0.792614    0.474906     0.502926  0.009684  \n",
       "4225             0.645094    0.704732    0.343066     0.353837 -0.043145  \n",
       "4770             0.658779    0.667345    0.435156     0.532467 -0.021511  \n",
       "total_bags       1.000000    0.962001    0.791435     0.762225  0.187018  \n",
       "small_bags       0.962001    1.000000    0.598780     0.673737  0.143778  \n",
       "large_bags       0.791435    0.598780    1.000000     0.648844  0.235122  \n",
       "xlarge_bags      0.762225    0.673737    0.648844     1.000000  0.134722  \n",
       "year             0.187018    0.143778    0.235122     0.134722  1.000000  "
      ]
     },
     "execution_count": 24,
     "metadata": {},
     "output_type": "execute_result"
    }
   ],
   "source": [
    "corr = df.corr()\n",
    "corr"
   ]
  },
  {
   "cell_type": "code",
   "execution_count": 25,
   "id": "1ba720f0",
   "metadata": {
    "execution": {
     "iopub.execute_input": "2023-04-08T16:11:11.669427Z",
     "iopub.status.busy": "2023-04-08T16:11:11.668416Z",
     "iopub.status.idle": "2023-04-08T16:11:12.158239Z",
     "shell.execute_reply": "2023-04-08T16:11:12.157307Z"
    },
    "papermill": {
     "duration": 0.508139,
     "end_time": "2023-04-08T16:11:12.160059",
     "exception": false,
     "start_time": "2023-04-08T16:11:11.651920",
     "status": "completed"
    },
    "tags": []
   },
   "outputs": [
    {
     "data": {
      "text/plain": [
       "<AxesSubplot:>"
      ]
     },
     "execution_count": 25,
     "metadata": {},
     "output_type": "execute_result"
    },
    {
     "data": {
      "image/png": "[encoded data removed]",
      "text/plain": [
       "<Figure size 1200x1200 with 2 Axes>"
      ]
     },
     "metadata": {},
     "output_type": "display_data"
    }
   ],
   "source": [
    "# Generación de una máscara para el triángulo superior\n",
    "mask = np.triu(np.ones_like(corr, dtype=bool))\n",
    "\n",
    "# Ajustes de la figura de Matplotlib\n",
    "fig, ax = plt.subplots(figsize=(12, 12))\n",
    "\n",
    "# Draw the heatmap with the mask and correct aspect ratio\n",
    "sns.heatmap(corr, cmap='coolwarm', mask=mask, square=True, annot=True, center=0, vmin=-1, vmax=1)"
   ]
  },
  {
   "cell_type": "markdown",
   "id": "ed232951",
   "metadata": {
    "papermill": {
     "duration": 0.017959,
     "end_time": "2023-04-08T16:11:12.195130",
     "exception": false,
     "start_time": "2023-04-08T16:11:12.177171",
     "status": "completed"
    },
    "tags": []
   },
   "source": [
    "# 6. Conclusiones EDA"
   ]
  },
  {
   "cell_type": "markdown",
   "id": "fe0b054b",
   "metadata": {
    "papermill": {
     "duration": 0.016332,
     "end_time": "2023-04-08T16:11:12.228849",
     "exception": false,
     "start_time": "2023-04-08T16:11:12.212517",
     "status": "completed"
    },
    "tags": []
   },
   "source": [
    "- El dataset no tiene valores faltantes.\n",
    "-  "
   ]
  }
 ],
 "metadata": {
  "kernelspec": {
   "display_name": "Python 3",
   "language": "python",
   "name": "python3"
  },
  "language_info": {
   "codemirror_mode": {
    "name": "ipython",
    "version": 3
   },
   "file_extension": ".py",
   "mimetype": "text/x-python",
   "name": "python",
   "nbconvert_exporter": "python",
   "pygments_lexer": "ipython3",
   "version": "3.7.12"
  },
  "papermill": {
   "default_parameters": {},
   "duration": 14.441686,
   "end_time": "2023-04-08T16:11:12.967028",
   "environment_variables": {},
   "exception": null,
   "input_path": "__notebook__.ipynb",
   "output_path": "__notebook__.ipynb",
   "parameters": {},
   "start_time": "2023-04-08T16:10:58.525342",
   "version": "2.4.0"
  }
 },
 "nbformat": 4,
 "nbformat_minor": 5
}
